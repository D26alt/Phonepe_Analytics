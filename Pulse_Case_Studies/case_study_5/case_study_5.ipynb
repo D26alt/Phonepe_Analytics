{
 "cells": [
  {
   "cell_type": "markdown",
   "id": "fe4b3b83",
   "metadata": {},
   "source": [
    "#**5. User Engagement and Growth Strategy**"
   ]
  },
  {
   "cell_type": "code",
   "execution_count": 1,
   "id": "f767eeac",
   "metadata": {},
   "outputs": [],
   "source": [
    "import sys\n",
    "import os\n",
    "\n",
    "sys.path.append(os.path.abspath(\"D:/D26_Files/Phonepe_Analytics/Pulse_Case_Studies/\"))\n",
    "\n",
    "from db_connection import get_phonepe_engine\n",
    "\n",
    "\n",
    "engine = get_phonepe_engine()"
   ]
  },
  {
   "cell_type": "code",
   "execution_count": 2,
   "id": "3089e7e7",
   "metadata": {},
   "outputs": [],
   "source": [
    "import pandas as pd\n",
    "from sqlalchemy import text"
   ]
  },
  {
   "cell_type": "code",
   "execution_count": 3,
   "id": "84d584c3",
   "metadata": {},
   "outputs": [
    {
     "data": {
      "text/html": [
       "<div>\n",
       "<style scoped>\n",
       "    .dataframe tbody tr th:only-of-type {\n",
       "        vertical-align: middle;\n",
       "    }\n",
       "\n",
       "    .dataframe tbody tr th {\n",
       "        vertical-align: top;\n",
       "    }\n",
       "\n",
       "    .dataframe thead th {\n",
       "        text-align: right;\n",
       "    }\n",
       "</style>\n",
       "<table border=\"1\" class=\"dataframe\">\n",
       "  <thead>\n",
       "    <tr style=\"text-align: right;\">\n",
       "      <th></th>\n",
       "      <th>Tables_in_phonepe_db</th>\n",
       "    </tr>\n",
       "  </thead>\n",
       "  <tbody>\n",
       "    <tr>\n",
       "      <th>0</th>\n",
       "      <td>agg_transaction</td>\n",
       "    </tr>\n",
       "    <tr>\n",
       "      <th>1</th>\n",
       "      <td>agg_user</td>\n",
       "    </tr>\n",
       "    <tr>\n",
       "      <th>2</th>\n",
       "      <td>insurance_transaction</td>\n",
       "    </tr>\n",
       "    <tr>\n",
       "      <th>3</th>\n",
       "      <td>map_transaction</td>\n",
       "    </tr>\n",
       "    <tr>\n",
       "      <th>4</th>\n",
       "      <td>map_user</td>\n",
       "    </tr>\n",
       "    <tr>\n",
       "      <th>5</th>\n",
       "      <td>top_transaction</td>\n",
       "    </tr>\n",
       "  </tbody>\n",
       "</table>\n",
       "</div>"
      ],
      "text/plain": [
       "    Tables_in_phonepe_db\n",
       "0        agg_transaction\n",
       "1               agg_user\n",
       "2  insurance_transaction\n",
       "3        map_transaction\n",
       "4               map_user\n",
       "5        top_transaction"
      ]
     },
     "execution_count": 3,
     "metadata": {},
     "output_type": "execute_result"
    }
   ],
   "source": [
    "tables_df = pd.read_sql(\"SHOW TABLES;\", engine)\n",
    "tables_df"
   ]
  },
  {
   "cell_type": "code",
   "execution_count": 4,
   "id": "f9ade801",
   "metadata": {},
   "outputs": [
    {
     "data": {
      "text/html": [
       "<div>\n",
       "<style scoped>\n",
       "    .dataframe tbody tr th:only-of-type {\n",
       "        vertical-align: middle;\n",
       "    }\n",
       "\n",
       "    .dataframe tbody tr th {\n",
       "        vertical-align: top;\n",
       "    }\n",
       "\n",
       "    .dataframe thead th {\n",
       "        text-align: right;\n",
       "    }\n",
       "</style>\n",
       "<table border=\"1\" class=\"dataframe\">\n",
       "  <thead>\n",
       "    <tr style=\"text-align: right;\">\n",
       "      <th></th>\n",
       "      <th>State</th>\n",
       "      <th>Year</th>\n",
       "      <th>Quarter</th>\n",
       "      <th>Registered_users</th>\n",
       "      <th>App_opens</th>\n",
       "      <th>Brand</th>\n",
       "      <th>Brand_count</th>\n",
       "      <th>Brand_percentage</th>\n",
       "    </tr>\n",
       "  </thead>\n",
       "  <tbody>\n",
       "    <tr>\n",
       "      <th>0</th>\n",
       "      <td>Andaman &amp; Nicobar Islands</td>\n",
       "      <td>2018</td>\n",
       "      <td>1</td>\n",
       "      <td>6740</td>\n",
       "      <td>0</td>\n",
       "      <td>Xiaomi</td>\n",
       "      <td>1665</td>\n",
       "      <td>0.247033</td>\n",
       "    </tr>\n",
       "    <tr>\n",
       "      <th>1</th>\n",
       "      <td>Andaman &amp; Nicobar Islands</td>\n",
       "      <td>2018</td>\n",
       "      <td>1</td>\n",
       "      <td>6740</td>\n",
       "      <td>0</td>\n",
       "      <td>Samsung</td>\n",
       "      <td>1445</td>\n",
       "      <td>0.214392</td>\n",
       "    </tr>\n",
       "    <tr>\n",
       "      <th>2</th>\n",
       "      <td>Andaman &amp; Nicobar Islands</td>\n",
       "      <td>2018</td>\n",
       "      <td>1</td>\n",
       "      <td>6740</td>\n",
       "      <td>0</td>\n",
       "      <td>Vivo</td>\n",
       "      <td>982</td>\n",
       "      <td>0.145697</td>\n",
       "    </tr>\n",
       "    <tr>\n",
       "      <th>3</th>\n",
       "      <td>Andaman &amp; Nicobar Islands</td>\n",
       "      <td>2018</td>\n",
       "      <td>1</td>\n",
       "      <td>6740</td>\n",
       "      <td>0</td>\n",
       "      <td>Oppo</td>\n",
       "      <td>501</td>\n",
       "      <td>0.074332</td>\n",
       "    </tr>\n",
       "    <tr>\n",
       "      <th>4</th>\n",
       "      <td>Andaman &amp; Nicobar Islands</td>\n",
       "      <td>2018</td>\n",
       "      <td>1</td>\n",
       "      <td>6740</td>\n",
       "      <td>0</td>\n",
       "      <td>OnePlus</td>\n",
       "      <td>332</td>\n",
       "      <td>0.049258</td>\n",
       "    </tr>\n",
       "  </tbody>\n",
       "</table>\n",
       "</div>"
      ],
      "text/plain": [
       "                       State  Year  Quarter  Registered_users  App_opens  \\\n",
       "0  Andaman & Nicobar Islands  2018        1              6740          0   \n",
       "1  Andaman & Nicobar Islands  2018        1              6740          0   \n",
       "2  Andaman & Nicobar Islands  2018        1              6740          0   \n",
       "3  Andaman & Nicobar Islands  2018        1              6740          0   \n",
       "4  Andaman & Nicobar Islands  2018        1              6740          0   \n",
       "\n",
       "     Brand  Brand_count  Brand_percentage  \n",
       "0   Xiaomi         1665          0.247033  \n",
       "1  Samsung         1445          0.214392  \n",
       "2     Vivo          982          0.145697  \n",
       "3     Oppo          501          0.074332  \n",
       "4  OnePlus          332          0.049258  "
      ]
     },
     "execution_count": 4,
     "metadata": {},
     "output_type": "execute_result"
    }
   ],
   "source": [
    "Agg_User_df = pd.read_sql(\"SELECT * FROM agg_user;\", engine)\n",
    "Agg_User_df.head()"
   ]
  },
  {
   "cell_type": "code",
   "execution_count": 5,
   "id": "6d578e9b",
   "metadata": {},
   "outputs": [
    {
     "data": {
      "text/html": [
       "<div>\n",
       "<style scoped>\n",
       "    .dataframe tbody tr th:only-of-type {\n",
       "        vertical-align: middle;\n",
       "    }\n",
       "\n",
       "    .dataframe tbody tr th {\n",
       "        vertical-align: top;\n",
       "    }\n",
       "\n",
       "    .dataframe thead th {\n",
       "        text-align: right;\n",
       "    }\n",
       "</style>\n",
       "<table border=\"1\" class=\"dataframe\">\n",
       "  <thead>\n",
       "    <tr style=\"text-align: right;\">\n",
       "      <th></th>\n",
       "      <th>State</th>\n",
       "      <th>Year</th>\n",
       "      <th>Quarter</th>\n",
       "      <th>District</th>\n",
       "      <th>Registered_users</th>\n",
       "      <th>App_opens</th>\n",
       "    </tr>\n",
       "  </thead>\n",
       "  <tbody>\n",
       "    <tr>\n",
       "      <th>0</th>\n",
       "      <td>Andaman &amp; Nicobar Islands</td>\n",
       "      <td>2018</td>\n",
       "      <td>1</td>\n",
       "      <td>North And Middle Andaman District</td>\n",
       "      <td>632</td>\n",
       "      <td>0</td>\n",
       "    </tr>\n",
       "    <tr>\n",
       "      <th>1</th>\n",
       "      <td>Andaman &amp; Nicobar Islands</td>\n",
       "      <td>2018</td>\n",
       "      <td>1</td>\n",
       "      <td>South Andaman District</td>\n",
       "      <td>5846</td>\n",
       "      <td>0</td>\n",
       "    </tr>\n",
       "    <tr>\n",
       "      <th>2</th>\n",
       "      <td>Andaman &amp; Nicobar Islands</td>\n",
       "      <td>2018</td>\n",
       "      <td>1</td>\n",
       "      <td>Nicobars District</td>\n",
       "      <td>262</td>\n",
       "      <td>0</td>\n",
       "    </tr>\n",
       "    <tr>\n",
       "      <th>3</th>\n",
       "      <td>Andaman &amp; Nicobar Islands</td>\n",
       "      <td>2018</td>\n",
       "      <td>2</td>\n",
       "      <td>North And Middle Andaman District</td>\n",
       "      <td>911</td>\n",
       "      <td>0</td>\n",
       "    </tr>\n",
       "    <tr>\n",
       "      <th>4</th>\n",
       "      <td>Andaman &amp; Nicobar Islands</td>\n",
       "      <td>2018</td>\n",
       "      <td>2</td>\n",
       "      <td>South Andaman District</td>\n",
       "      <td>8143</td>\n",
       "      <td>0</td>\n",
       "    </tr>\n",
       "  </tbody>\n",
       "</table>\n",
       "</div>"
      ],
      "text/plain": [
       "                       State  Year  Quarter  \\\n",
       "0  Andaman & Nicobar Islands  2018        1   \n",
       "1  Andaman & Nicobar Islands  2018        1   \n",
       "2  Andaman & Nicobar Islands  2018        1   \n",
       "3  Andaman & Nicobar Islands  2018        2   \n",
       "4  Andaman & Nicobar Islands  2018        2   \n",
       "\n",
       "                            District  Registered_users  App_opens  \n",
       "0  North And Middle Andaman District               632          0  \n",
       "1             South Andaman District              5846          0  \n",
       "2                  Nicobars District               262          0  \n",
       "3  North And Middle Andaman District               911          0  \n",
       "4             South Andaman District              8143          0  "
      ]
     },
     "execution_count": 5,
     "metadata": {},
     "output_type": "execute_result"
    }
   ],
   "source": [
    "Map_User_df = pd.read_sql(\"SELECT * FROM map_user;\", engine)\n",
    "Map_User_df.head()"
   ]
  },
  {
   "cell_type": "code",
   "execution_count": 6,
   "id": "d0266078",
   "metadata": {},
   "outputs": [
    {
     "data": {
      "text/plain": [
       "array([2018, 2019, 2020, 2021, 2022, 2023, 2024])"
      ]
     },
     "execution_count": 6,
     "metadata": {},
     "output_type": "execute_result"
    }
   ],
   "source": [
    "Map_User_df['Year'].unique()"
   ]
  },
  {
   "cell_type": "markdown",
   "id": "312601a3",
   "metadata": {},
   "source": [
    "*1.\tWhich states/districts show the highest number of registered users?*"
   ]
  },
  {
   "cell_type": "code",
   "execution_count": null,
   "id": "d9d10483",
   "metadata": {},
   "outputs": [],
   "source": [
    "top_states_df = pd.read_sql(\"\"\"\n",
    "    SELECT \n",
    "        State,\n",
    "        SUM(Registered_users) as Total_Users\n",
    "    FROM agg_user\n",
    "    WHERE Year = (SELECT MAX(Year) FROM agg_user) \n",
    "    GROUP BY State \n",
    "    ORDER BY Total_Users DESC\n",
    "    LIMIT 10\n",
    "\"\"\", engine)\n",
    "top_states_df"
   ]
  },
  {
   "cell_type": "code",
   "execution_count": null,
   "id": "7cbd5f85",
   "metadata": {},
   "outputs": [],
   "source": [
    "top_districts_df = pd.read_sql(\"\"\"\n",
    "    SELECT \n",
    "        State,\n",
    "        District,\n",
    "        SUM(Registered_users) as Total_Users\n",
    "    FROM map_user\n",
    "    WHERE Year = (SELECT MAX(Year) FROM map_user)  \n",
    "    GROUP BY State, District \n",
    "    ORDER BY Total_Users DESC\n",
    "    LIMIT 10\n",
    "\"\"\", engine)\n",
    "top_districts_df"
   ]
  },
  {
   "cell_type": "markdown",
   "id": "6c22e9c5",
   "metadata": {},
   "source": [
    "*2.\tHow does the ratio of active users (app opens) to registered users vary by top 10 states/regions*"
   ]
  },
  {
   "cell_type": "code",
   "execution_count": null,
   "id": "6305424c",
   "metadata": {},
   "outputs": [],
   "source": [
    "state_ratio_df = pd.read_sql(\"\"\"\n",
    "    SELECT \n",
    "        State,\n",
    "        SUM(Registered_users) as Total_Registered,\n",
    "        SUM(App_opens) as Total_App_Opens,\n",
    "        ROUND((SUM(App_opens) * 1.0 / SUM(Registered_users)) * 100, 2) as Engagement_Ratio_Percent\n",
    "    FROM agg_user \n",
    "    WHERE Registered_users > 0 AND Year = (SELECT MAX(Year) FROM agg_user)\n",
    "    GROUP BY State \n",
    "    ORDER BY Engagement_Ratio_Percent DESC\n",
    "    LIMIT 10;\n",
    "\"\"\", engine)\n",
    "state_ratio_df"
   ]
  },
  {
   "cell_type": "code",
   "execution_count": null,
   "id": "8b839319",
   "metadata": {},
   "outputs": [],
   "source": [
    "district_ratio_df = pd.read_sql(\"\"\"\n",
    "    SELECT \n",
    "        State,\n",
    "        District,\n",
    "        SUM(Registered_users) as Total_Registered,\n",
    "        SUM(App_opens) as Total_App_Opens,\n",
    "        ROUND((SUM(App_opens) * 1.0 / SUM(Registered_users)) * 100, 2) as Engagement_Ratio_Percent\n",
    "    FROM map_user \n",
    "    WHERE Registered_users > 0 AND Year = (SELECT MAX(Year) FROM map_user)\n",
    "    GROUP BY State, District \n",
    "    ORDER BY Engagement_Ratio_Percent DESC\n",
    "    LIMIT 10;\n",
    "\"\"\", engine)\n",
    "district_ratio_df"
   ]
  },
  {
   "cell_type": "markdown",
   "id": "40e4c034",
   "metadata": {},
   "source": [
    "*3.\tWhich 10 regions show high registrations but poor engagement (dormant users)?*"
   ]
  },
  {
   "cell_type": "code",
   "execution_count": null,
   "id": "a3ee1d7f",
   "metadata": {},
   "outputs": [],
   "source": [
    "dormant_user_df = pd.read_sql(\"\"\"\n",
    "    SELECT \n",
    "        State,\n",
    "        SUM(Registered_users) as Total_Registered,\n",
    "        SUM(App_opens) as Total_App_Opens,\n",
    "        ROUND((SUM(App_opens) * 1.0 / SUM(Registered_users)) * 100, 2) as Engagement_Ratio_Percent,'Dormant Region' as Category\n",
    "    FROM agg_user \n",
    "    WHERE Registered_users > 0 AND Year = (SELECT MAX(Year) FROM agg_user)\n",
    "    GROUP BY State \n",
    "    ORDER BY Total_Registered DESC, Engagement_Ratio_Percent ASC\n",
    "    LIMIT 10\n",
    "\"\"\", engine)\n",
    "dormant_user_df"
   ]
  },
  {
   "cell_type": "markdown",
   "id": "8c19779c",
   "metadata": {},
   "source": [
    "*4.\tWhat are the growth of states in terms of user engagement over time?*"
   ]
  },
  {
   "cell_type": "code",
   "execution_count": null,
   "id": "096d80bd",
   "metadata": {},
   "outputs": [],
   "source": [
    "yearly_growth_df = pd.read_sql(\"\"\"\n",
    "    SELECT \n",
    "        State,\n",
    "        Year,\n",
    "        ROUND(\n",
    "            (SUM(App_opens) * 1.0 / SUM(Registered_users)) * 100, 2\n",
    "        ) as Yearly_Engagement_Percent\n",
    "    FROM agg_user \n",
    "    GROUP BY State, Year \n",
    "    ORDER BY Yearly_Engagement_Percent DESC\n",
    "\"\"\", engine)\n",
    "yearly_growth_df"
   ]
  },
  {
   "cell_type": "markdown",
   "id": "31df67d5",
   "metadata": {},
   "source": [
    "*5.\tWhich 20 districts could be targeted to increase user stickiness?*"
   ]
  },
  {
   "cell_type": "code",
   "execution_count": null,
   "id": "7e171366",
   "metadata": {},
   "outputs": [],
   "source": [
    "target_districts_df = pd.read_sql(\"\"\"\n",
    "    SELECT\n",
    "    State,\n",
    "    District,\n",
    "    SUM(Registered_users) AS Total_Registered,\n",
    "    SUM(App_opens) AS Total_App_Opens,\n",
    "    ROUND((SUM(App_opens) * 1.0 / NULLIF(SUM(Registered_users), 0)) * 100, 2) AS Engagement_Ratio_Percent\n",
    "FROM map_user\n",
    "WHERE Year = (SELECT MAX(Year) FROM map_user) \n",
    "GROUP BY State, District\n",
    "HAVING Engagement_Ratio_Percent > 0\n",
    "ORDER BY Engagement_Ratio_Percent ASC\n",
    "LIMIT 20;\n",
    "\"\"\", engine)\n",
    "target_districts_df"
   ]
  }
 ],
 "metadata": {
  "kernelspec": {
   "display_name": "Phonepe_venv (3.13.7)",
   "language": "python",
   "name": "python3"
  },
  "language_info": {
   "codemirror_mode": {
    "name": "ipython",
    "version": 3
   },
   "file_extension": ".py",
   "mimetype": "text/x-python",
   "name": "python",
   "nbconvert_exporter": "python",
   "pygments_lexer": "ipython3",
   "version": "3.13.7"
  }
 },
 "nbformat": 4,
 "nbformat_minor": 5
}
