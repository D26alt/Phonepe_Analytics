{
 "cells": [
  {
   "cell_type": "markdown",
   "id": "27a4d9db",
   "metadata": {},
   "source": [
    "**Data Extraction & Dataframe Creation**"
   ]
  },
  {
   "cell_type": "code",
   "execution_count": 1,
   "id": "bf78430c",
   "metadata": {},
   "outputs": [
    {
     "name": "stdout",
     "output_type": "stream",
     "text": [
      "Requirement already satisfied: pandas in c:\\users\\dharshan\\documents\\venvs\\phonepe_venv\\lib\\site-packages (2.3.2)\n",
      "Requirement already satisfied: numpy>=1.26.0 in c:\\users\\dharshan\\documents\\venvs\\phonepe_venv\\lib\\site-packages (from pandas) (2.3.3)\n",
      "Requirement already satisfied: python-dateutil>=2.8.2 in c:\\users\\dharshan\\documents\\venvs\\phonepe_venv\\lib\\site-packages (from pandas) (2.9.0.post0)\n",
      "Requirement already satisfied: pytz>=2020.1 in c:\\users\\dharshan\\documents\\venvs\\phonepe_venv\\lib\\site-packages (from pandas) (2025.2)\n",
      "Requirement already satisfied: tzdata>=2022.7 in c:\\users\\dharshan\\documents\\venvs\\phonepe_venv\\lib\\site-packages (from pandas) (2025.2)\n",
      "Requirement already satisfied: six>=1.5 in c:\\users\\dharshan\\documents\\venvs\\phonepe_venv\\lib\\site-packages (from python-dateutil>=2.8.2->pandas) (1.17.0)\n",
      "Note: you may need to restart the kernel to use updated packages.\n"
     ]
    }
   ],
   "source": [
    "%pip install pandas\n",
    "import pandas as pd\n",
    "import numpy as np\n",
    "import json\n",
    "import os"
   ]
  },
  {
   "cell_type": "markdown",
   "id": "ff70574e",
   "metadata": {},
   "source": [
    "***Agg_Transaction***"
   ]
  },
  {
   "cell_type": "code",
   "execution_count": 2,
   "id": "56495df4",
   "metadata": {},
   "outputs": [],
   "source": [
    "Agg_path = \"D:/D26_Files/Phonepe_Analytics/pulse/data/aggregated/transaction/country/india/state/\"\n",
    "Agg_state_list = os.listdir(Agg_path)\n",
    "\n",
    "agg_txn_data={'State':[], 'Year':[],'Quarter':[],'Transaction_type':[], 'Transaction_count':[], 'Transaction_amount':[]}\n",
    "\n",
    "for state_name in Agg_state_list:\n",
    "    state_path = Agg_path + state_name + \"/\"\n",
    "    Agg_yr = os.listdir(state_path)\n",
    "    \n",
    "    for year in Agg_yr:\n",
    "        year_path = state_path + year+ \"/\"\n",
    "        Agg_yr_list = os.listdir(year_path)\n",
    "        \n",
    "        for quarter_file in Agg_yr_list:\n",
    "            quarter_path = year_path + quarter_file\n",
    "            Data = open(quarter_path,'r')\n",
    "            D = json.load(Data)\n",
    "            \n",
    "            for category in D['data']['transactionData']:\n",
    "              Name = category['name']\n",
    "              Count = category['paymentInstruments'][0]['count']\n",
    "              Amount = category['paymentInstruments'][0]['amount']\n",
    "              \n",
    "              agg_txn_data['Transaction_type'].append(Name)\n",
    "              agg_txn_data['Transaction_count'].append(Count)\n",
    "              agg_txn_data['Transaction_amount'].append(Amount)\n",
    "              agg_txn_data['State'].append(state_name)\n",
    "              agg_txn_data['Year'].append(year)\n",
    "              agg_txn_data['Quarter'].append(int(quarter_file.strip('.json')))\n",
    "\n",
    "Agg_Transaction_df = pd.DataFrame(agg_txn_data)"
   ]
  },
  {
   "cell_type": "code",
   "execution_count": 3,
   "id": "bfd7916d",
   "metadata": {},
   "outputs": [
    {
     "data": {
      "text/html": [
       "<div>\n",
       "<style scoped>\n",
       "    .dataframe tbody tr th:only-of-type {\n",
       "        vertical-align: middle;\n",
       "    }\n",
       "\n",
       "    .dataframe tbody tr th {\n",
       "        vertical-align: top;\n",
       "    }\n",
       "\n",
       "    .dataframe thead th {\n",
       "        text-align: right;\n",
       "    }\n",
       "</style>\n",
       "<table border=\"1\" class=\"dataframe\">\n",
       "  <thead>\n",
       "    <tr style=\"text-align: right;\">\n",
       "      <th></th>\n",
       "      <th>State</th>\n",
       "      <th>Year</th>\n",
       "      <th>Quarter</th>\n",
       "      <th>Transaction_type</th>\n",
       "      <th>Transaction_count</th>\n",
       "      <th>Transaction_amount</th>\n",
       "    </tr>\n",
       "  </thead>\n",
       "  <tbody>\n",
       "    <tr>\n",
       "      <th>0</th>\n",
       "      <td>andaman-&amp;-nicobar-islands</td>\n",
       "      <td>2018</td>\n",
       "      <td>1</td>\n",
       "      <td>Recharge &amp; bill payments</td>\n",
       "      <td>4200</td>\n",
       "      <td>1.845307e+06</td>\n",
       "    </tr>\n",
       "    <tr>\n",
       "      <th>1</th>\n",
       "      <td>andaman-&amp;-nicobar-islands</td>\n",
       "      <td>2018</td>\n",
       "      <td>1</td>\n",
       "      <td>Peer-to-peer payments</td>\n",
       "      <td>1871</td>\n",
       "      <td>1.213866e+07</td>\n",
       "    </tr>\n",
       "    <tr>\n",
       "      <th>2</th>\n",
       "      <td>andaman-&amp;-nicobar-islands</td>\n",
       "      <td>2018</td>\n",
       "      <td>1</td>\n",
       "      <td>Merchant payments</td>\n",
       "      <td>298</td>\n",
       "      <td>4.525072e+05</td>\n",
       "    </tr>\n",
       "    <tr>\n",
       "      <th>3</th>\n",
       "      <td>andaman-&amp;-nicobar-islands</td>\n",
       "      <td>2018</td>\n",
       "      <td>1</td>\n",
       "      <td>Financial Services</td>\n",
       "      <td>33</td>\n",
       "      <td>1.060142e+04</td>\n",
       "    </tr>\n",
       "    <tr>\n",
       "      <th>4</th>\n",
       "      <td>andaman-&amp;-nicobar-islands</td>\n",
       "      <td>2018</td>\n",
       "      <td>1</td>\n",
       "      <td>Others</td>\n",
       "      <td>256</td>\n",
       "      <td>1.846899e+05</td>\n",
       "    </tr>\n",
       "  </tbody>\n",
       "</table>\n",
       "</div>"
      ],
      "text/plain": [
       "                       State  Year  Quarter          Transaction_type  \\\n",
       "0  andaman-&-nicobar-islands  2018        1  Recharge & bill payments   \n",
       "1  andaman-&-nicobar-islands  2018        1     Peer-to-peer payments   \n",
       "2  andaman-&-nicobar-islands  2018        1         Merchant payments   \n",
       "3  andaman-&-nicobar-islands  2018        1        Financial Services   \n",
       "4  andaman-&-nicobar-islands  2018        1                    Others   \n",
       "\n",
       "   Transaction_count  Transaction_amount  \n",
       "0               4200        1.845307e+06  \n",
       "1               1871        1.213866e+07  \n",
       "2                298        4.525072e+05  \n",
       "3                 33        1.060142e+04  \n",
       "4                256        1.846899e+05  "
      ]
     },
     "execution_count": 3,
     "metadata": {},
     "output_type": "execute_result"
    }
   ],
   "source": [
    "Agg_Transaction_df.head()"
   ]
  },
  {
   "cell_type": "code",
   "execution_count": 4,
   "id": "0c9a3de5",
   "metadata": {},
   "outputs": [
    {
     "data": {
      "text/html": [
       "<div>\n",
       "<style scoped>\n",
       "    .dataframe tbody tr th:only-of-type {\n",
       "        vertical-align: middle;\n",
       "    }\n",
       "\n",
       "    .dataframe tbody tr th {\n",
       "        vertical-align: top;\n",
       "    }\n",
       "\n",
       "    .dataframe thead th {\n",
       "        text-align: right;\n",
       "    }\n",
       "</style>\n",
       "<table border=\"1\" class=\"dataframe\">\n",
       "  <thead>\n",
       "    <tr style=\"text-align: right;\">\n",
       "      <th></th>\n",
       "      <th>Quarter</th>\n",
       "      <th>Transaction_count</th>\n",
       "      <th>Transaction_amount</th>\n",
       "    </tr>\n",
       "  </thead>\n",
       "  <tbody>\n",
       "    <tr>\n",
       "      <th>count</th>\n",
       "      <td>5034.000000</td>\n",
       "      <td>5.034000e+03</td>\n",
       "      <td>5.034000e+03</td>\n",
       "    </tr>\n",
       "    <tr>\n",
       "      <th>mean</th>\n",
       "      <td>2.500795</td>\n",
       "      <td>4.673902e+07</td>\n",
       "      <td>6.863772e+10</td>\n",
       "    </tr>\n",
       "    <tr>\n",
       "      <th>std</th>\n",
       "      <td>1.118145</td>\n",
       "      <td>1.690968e+08</td>\n",
       "      <td>2.685200e+11</td>\n",
       "    </tr>\n",
       "    <tr>\n",
       "      <th>min</th>\n",
       "      <td>1.000000</td>\n",
       "      <td>2.000000e+00</td>\n",
       "      <td>3.439721e+01</td>\n",
       "    </tr>\n",
       "    <tr>\n",
       "      <th>25%</th>\n",
       "      <td>2.000000</td>\n",
       "      <td>5.808950e+04</td>\n",
       "      <td>3.993888e+07</td>\n",
       "    </tr>\n",
       "    <tr>\n",
       "      <th>50%</th>\n",
       "      <td>3.000000</td>\n",
       "      <td>5.158310e+05</td>\n",
       "      <td>4.394139e+08</td>\n",
       "    </tr>\n",
       "    <tr>\n",
       "      <th>75%</th>\n",
       "      <td>4.000000</td>\n",
       "      <td>1.166629e+07</td>\n",
       "      <td>1.102822e+10</td>\n",
       "    </tr>\n",
       "    <tr>\n",
       "      <th>max</th>\n",
       "      <td>4.000000</td>\n",
       "      <td>2.393918e+09</td>\n",
       "      <td>3.095666e+12</td>\n",
       "    </tr>\n",
       "  </tbody>\n",
       "</table>\n",
       "</div>"
      ],
      "text/plain": [
       "           Quarter  Transaction_count  Transaction_amount\n",
       "count  5034.000000       5.034000e+03        5.034000e+03\n",
       "mean      2.500795       4.673902e+07        6.863772e+10\n",
       "std       1.118145       1.690968e+08        2.685200e+11\n",
       "min       1.000000       2.000000e+00        3.439721e+01\n",
       "25%       2.000000       5.808950e+04        3.993888e+07\n",
       "50%       3.000000       5.158310e+05        4.394139e+08\n",
       "75%       4.000000       1.166629e+07        1.102822e+10\n",
       "max       4.000000       2.393918e+09        3.095666e+12"
      ]
     },
     "execution_count": 4,
     "metadata": {},
     "output_type": "execute_result"
    }
   ],
   "source": [
    "Agg_Transaction_df.describe()"
   ]
  },
  {
   "cell_type": "code",
   "execution_count": 5,
   "id": "3cc55970",
   "metadata": {},
   "outputs": [
    {
     "name": "stdout",
     "output_type": "stream",
     "text": [
      "<class 'pandas.core.frame.DataFrame'>\n",
      "RangeIndex: 5034 entries, 0 to 5033\n",
      "Data columns (total 6 columns):\n",
      " #   Column              Non-Null Count  Dtype  \n",
      "---  ------              --------------  -----  \n",
      " 0   State               5034 non-null   object \n",
      " 1   Year                5034 non-null   object \n",
      " 2   Quarter             5034 non-null   int64  \n",
      " 3   Transaction_type    5034 non-null   object \n",
      " 4   Transaction_count   5034 non-null   int64  \n",
      " 5   Transaction_amount  5034 non-null   float64\n",
      "dtypes: float64(1), int64(2), object(3)\n",
      "memory usage: 236.1+ KB\n"
     ]
    }
   ],
   "source": [
    "Agg_Transaction_df.info()"
   ]
  },
  {
   "cell_type": "code",
   "execution_count": 6,
   "id": "7a18b84e",
   "metadata": {},
   "outputs": [
    {
     "data": {
      "text/plain": [
       "(5034, 6)"
      ]
     },
     "execution_count": 6,
     "metadata": {},
     "output_type": "execute_result"
    }
   ],
   "source": [
    "Agg_Transaction_df.shape"
   ]
  },
  {
   "cell_type": "code",
   "execution_count": 7,
   "id": "7c8b12bd",
   "metadata": {},
   "outputs": [
    {
     "data": {
      "text/plain": [
       "State                 0\n",
       "Year                  0\n",
       "Quarter               0\n",
       "Transaction_type      0\n",
       "Transaction_count     0\n",
       "Transaction_amount    0\n",
       "dtype: int64"
      ]
     },
     "execution_count": 7,
     "metadata": {},
     "output_type": "execute_result"
    }
   ],
   "source": [
    "Agg_Transaction_df.isnull().sum()"
   ]
  },
  {
   "cell_type": "code",
   "execution_count": 8,
   "id": "610882f6",
   "metadata": {},
   "outputs": [],
   "source": [
    "Agg_Transaction_df['Year'] = Agg_Transaction_df['Year'].astype(int)\n",
    "Agg_Transaction_df['State'] = Agg_Transaction_df['State'].str.replace('-', ' ').str.title()"
   ]
  },
  {
   "cell_type": "code",
   "execution_count": 9,
   "id": "eec75549",
   "metadata": {},
   "outputs": [
    {
     "name": "stdout",
     "output_type": "stream",
     "text": [
      "<class 'pandas.core.frame.DataFrame'>\n",
      "RangeIndex: 5034 entries, 0 to 5033\n",
      "Data columns (total 6 columns):\n",
      " #   Column              Non-Null Count  Dtype  \n",
      "---  ------              --------------  -----  \n",
      " 0   State               5034 non-null   object \n",
      " 1   Year                5034 non-null   int64  \n",
      " 2   Quarter             5034 non-null   int64  \n",
      " 3   Transaction_type    5034 non-null   object \n",
      " 4   Transaction_count   5034 non-null   int64  \n",
      " 5   Transaction_amount  5034 non-null   float64\n",
      "dtypes: float64(1), int64(3), object(2)\n",
      "memory usage: 236.1+ KB\n"
     ]
    }
   ],
   "source": [
    "Agg_Transaction_df.info()"
   ]
  },
  {
   "cell_type": "code",
   "execution_count": 10,
   "id": "9ae85a14",
   "metadata": {},
   "outputs": [
    {
     "data": {
      "text/plain": [
       "array(['Recharge & bill payments', 'Peer-to-peer payments',\n",
       "       'Merchant payments', 'Financial Services', 'Others'], dtype=object)"
      ]
     },
     "execution_count": 10,
     "metadata": {},
     "output_type": "execute_result"
    }
   ],
   "source": [
    "Agg_Transaction_df['Transaction_type'].unique()"
   ]
  },
  {
   "cell_type": "code",
   "execution_count": 11,
   "id": "f1367626",
   "metadata": {},
   "outputs": [
    {
     "data": {
      "text/plain": [
       "array([1, 2, 3, 4])"
      ]
     },
     "execution_count": 11,
     "metadata": {},
     "output_type": "execute_result"
    }
   ],
   "source": [
    "Agg_Transaction_df['Quarter'].unique()"
   ]
  },
  {
   "cell_type": "code",
   "execution_count": 12,
   "id": "cb001f23",
   "metadata": {},
   "outputs": [
    {
     "data": {
      "text/html": [
       "<div>\n",
       "<style scoped>\n",
       "    .dataframe tbody tr th:only-of-type {\n",
       "        vertical-align: middle;\n",
       "    }\n",
       "\n",
       "    .dataframe tbody tr th {\n",
       "        vertical-align: top;\n",
       "    }\n",
       "\n",
       "    .dataframe thead th {\n",
       "        text-align: right;\n",
       "    }\n",
       "</style>\n",
       "<table border=\"1\" class=\"dataframe\">\n",
       "  <thead>\n",
       "    <tr style=\"text-align: right;\">\n",
       "      <th></th>\n",
       "      <th>State</th>\n",
       "      <th>Year</th>\n",
       "      <th>Quarter</th>\n",
       "      <th>Transaction_type</th>\n",
       "      <th>Transaction_count</th>\n",
       "      <th>Transaction_amount</th>\n",
       "    </tr>\n",
       "  </thead>\n",
       "  <tbody>\n",
       "    <tr>\n",
       "      <th>0</th>\n",
       "      <td>Andaman &amp; Nicobar Islands</td>\n",
       "      <td>2018</td>\n",
       "      <td>1</td>\n",
       "      <td>Recharge &amp; bill payments</td>\n",
       "      <td>4200</td>\n",
       "      <td>1.845307e+06</td>\n",
       "    </tr>\n",
       "    <tr>\n",
       "      <th>1</th>\n",
       "      <td>Andaman &amp; Nicobar Islands</td>\n",
       "      <td>2018</td>\n",
       "      <td>1</td>\n",
       "      <td>Peer-to-peer payments</td>\n",
       "      <td>1871</td>\n",
       "      <td>1.213866e+07</td>\n",
       "    </tr>\n",
       "    <tr>\n",
       "      <th>2</th>\n",
       "      <td>Andaman &amp; Nicobar Islands</td>\n",
       "      <td>2018</td>\n",
       "      <td>1</td>\n",
       "      <td>Merchant payments</td>\n",
       "      <td>298</td>\n",
       "      <td>4.525072e+05</td>\n",
       "    </tr>\n",
       "    <tr>\n",
       "      <th>3</th>\n",
       "      <td>Andaman &amp; Nicobar Islands</td>\n",
       "      <td>2018</td>\n",
       "      <td>1</td>\n",
       "      <td>Financial Services</td>\n",
       "      <td>33</td>\n",
       "      <td>1.060142e+04</td>\n",
       "    </tr>\n",
       "    <tr>\n",
       "      <th>4</th>\n",
       "      <td>Andaman &amp; Nicobar Islands</td>\n",
       "      <td>2018</td>\n",
       "      <td>1</td>\n",
       "      <td>Others</td>\n",
       "      <td>256</td>\n",
       "      <td>1.846899e+05</td>\n",
       "    </tr>\n",
       "  </tbody>\n",
       "</table>\n",
       "</div>"
      ],
      "text/plain": [
       "                       State  Year  Quarter          Transaction_type  \\\n",
       "0  Andaman & Nicobar Islands  2018        1  Recharge & bill payments   \n",
       "1  Andaman & Nicobar Islands  2018        1     Peer-to-peer payments   \n",
       "2  Andaman & Nicobar Islands  2018        1         Merchant payments   \n",
       "3  Andaman & Nicobar Islands  2018        1        Financial Services   \n",
       "4  Andaman & Nicobar Islands  2018        1                    Others   \n",
       "\n",
       "   Transaction_count  Transaction_amount  \n",
       "0               4200        1.845307e+06  \n",
       "1               1871        1.213866e+07  \n",
       "2                298        4.525072e+05  \n",
       "3                 33        1.060142e+04  \n",
       "4                256        1.846899e+05  "
      ]
     },
     "execution_count": 12,
     "metadata": {},
     "output_type": "execute_result"
    }
   ],
   "source": [
    "Agg_Transaction_df.head()"
   ]
  },
  {
   "cell_type": "markdown",
   "id": "e9547541",
   "metadata": {},
   "source": [
    "***Map_Transaction***"
   ]
  },
  {
   "cell_type": "code",
   "execution_count": 13,
   "id": "c2c30b7c",
   "metadata": {},
   "outputs": [],
   "source": [
    "Map_path = \"D:/D26_Files/Phonepe_Analytics/pulse/data/map/transaction/hover/country/india/state/\"\n",
    "Map_state_list = os.listdir(Map_path)\n",
    "\n",
    "Map_txn_data={'State':[], 'Year':[],'Quarter':[],'District_name':[], 'Transaction_count':[], 'Transaction_amount':[]}\n",
    "\n",
    "for state_name in Map_state_list:\n",
    "    state_path = Map_path + state_name + \"/\"\n",
    "    Map_yr = os.listdir(state_path)\n",
    "    \n",
    "    for year in Map_yr:\n",
    "        year_path = state_path + year+ \"/\"\n",
    "        Map_yr_list = os.listdir(year_path)\n",
    "        \n",
    "        for quarter_file in Map_yr_list:\n",
    "            quarter_path = year_path + quarter_file\n",
    "            Data = open(quarter_path,'r')\n",
    "            D = json.load(Data)\n",
    "            \n",
    "            for district in D['data']['hoverDataList']:\n",
    "              Name = district['name']\n",
    "              Count = district['metric'][0]['count']\n",
    "              Amount = district['metric'][0]['amount']\n",
    "              \n",
    "              Map_txn_data['District_name'].append(Name)\n",
    "              Map_txn_data['Transaction_count'].append(Count)\n",
    "              Map_txn_data['Transaction_amount'].append(Amount)\n",
    "              Map_txn_data['State'].append(state_name)\n",
    "              Map_txn_data['Year'].append(year)\n",
    "              Map_txn_data['Quarter'].append(int(quarter_file.strip('.json')))\n",
    "\n",
    "Map_Transaction_df = pd.DataFrame(Map_txn_data)"
   ]
  },
  {
   "cell_type": "code",
   "execution_count": 14,
   "id": "9ad38cfd",
   "metadata": {},
   "outputs": [
    {
     "data": {
      "text/html": [
       "<div>\n",
       "<style scoped>\n",
       "    .dataframe tbody tr th:only-of-type {\n",
       "        vertical-align: middle;\n",
       "    }\n",
       "\n",
       "    .dataframe tbody tr th {\n",
       "        vertical-align: top;\n",
       "    }\n",
       "\n",
       "    .dataframe thead th {\n",
       "        text-align: right;\n",
       "    }\n",
       "</style>\n",
       "<table border=\"1\" class=\"dataframe\">\n",
       "  <thead>\n",
       "    <tr style=\"text-align: right;\">\n",
       "      <th></th>\n",
       "      <th>State</th>\n",
       "      <th>Year</th>\n",
       "      <th>Quarter</th>\n",
       "      <th>District_name</th>\n",
       "      <th>Transaction_count</th>\n",
       "      <th>Transaction_amount</th>\n",
       "    </tr>\n",
       "  </thead>\n",
       "  <tbody>\n",
       "    <tr>\n",
       "      <th>0</th>\n",
       "      <td>andaman-&amp;-nicobar-islands</td>\n",
       "      <td>2018</td>\n",
       "      <td>1</td>\n",
       "      <td>north and middle andaman district</td>\n",
       "      <td>442</td>\n",
       "      <td>9.316631e+05</td>\n",
       "    </tr>\n",
       "    <tr>\n",
       "      <th>1</th>\n",
       "      <td>andaman-&amp;-nicobar-islands</td>\n",
       "      <td>2018</td>\n",
       "      <td>1</td>\n",
       "      <td>south andaman district</td>\n",
       "      <td>5688</td>\n",
       "      <td>1.256025e+07</td>\n",
       "    </tr>\n",
       "    <tr>\n",
       "      <th>2</th>\n",
       "      <td>andaman-&amp;-nicobar-islands</td>\n",
       "      <td>2018</td>\n",
       "      <td>1</td>\n",
       "      <td>nicobars district</td>\n",
       "      <td>528</td>\n",
       "      <td>1.139849e+06</td>\n",
       "    </tr>\n",
       "    <tr>\n",
       "      <th>3</th>\n",
       "      <td>andaman-&amp;-nicobar-islands</td>\n",
       "      <td>2018</td>\n",
       "      <td>2</td>\n",
       "      <td>north and middle andaman district</td>\n",
       "      <td>825</td>\n",
       "      <td>1.317863e+06</td>\n",
       "    </tr>\n",
       "    <tr>\n",
       "      <th>4</th>\n",
       "      <td>andaman-&amp;-nicobar-islands</td>\n",
       "      <td>2018</td>\n",
       "      <td>2</td>\n",
       "      <td>south andaman district</td>\n",
       "      <td>9395</td>\n",
       "      <td>2.394824e+07</td>\n",
       "    </tr>\n",
       "  </tbody>\n",
       "</table>\n",
       "</div>"
      ],
      "text/plain": [
       "                       State  Year  Quarter  \\\n",
       "0  andaman-&-nicobar-islands  2018        1   \n",
       "1  andaman-&-nicobar-islands  2018        1   \n",
       "2  andaman-&-nicobar-islands  2018        1   \n",
       "3  andaman-&-nicobar-islands  2018        2   \n",
       "4  andaman-&-nicobar-islands  2018        2   \n",
       "\n",
       "                       District_name  Transaction_count  Transaction_amount  \n",
       "0  north and middle andaman district                442        9.316631e+05  \n",
       "1             south andaman district               5688        1.256025e+07  \n",
       "2                  nicobars district                528        1.139849e+06  \n",
       "3  north and middle andaman district                825        1.317863e+06  \n",
       "4             south andaman district               9395        2.394824e+07  "
      ]
     },
     "execution_count": 14,
     "metadata": {},
     "output_type": "execute_result"
    }
   ],
   "source": [
    "Map_Transaction_df.head()"
   ]
  },
  {
   "cell_type": "code",
   "execution_count": 15,
   "id": "3f8a3ca4",
   "metadata": {},
   "outputs": [
    {
     "data": {
      "text/html": [
       "<div>\n",
       "<style scoped>\n",
       "    .dataframe tbody tr th:only-of-type {\n",
       "        vertical-align: middle;\n",
       "    }\n",
       "\n",
       "    .dataframe tbody tr th {\n",
       "        vertical-align: top;\n",
       "    }\n",
       "\n",
       "    .dataframe thead th {\n",
       "        text-align: right;\n",
       "    }\n",
       "</style>\n",
       "<table border=\"1\" class=\"dataframe\">\n",
       "  <thead>\n",
       "    <tr style=\"text-align: right;\">\n",
       "      <th></th>\n",
       "      <th>Quarter</th>\n",
       "      <th>Transaction_count</th>\n",
       "      <th>Transaction_amount</th>\n",
       "    </tr>\n",
       "  </thead>\n",
       "  <tbody>\n",
       "    <tr>\n",
       "      <th>count</th>\n",
       "      <td>20604.000000</td>\n",
       "      <td>2.060400e+04</td>\n",
       "      <td>2.060400e+04</td>\n",
       "    </tr>\n",
       "    <tr>\n",
       "      <th>mean</th>\n",
       "      <td>2.505581</td>\n",
       "      <td>1.141935e+07</td>\n",
       "      <td>1.676967e+10</td>\n",
       "    </tr>\n",
       "    <tr>\n",
       "      <th>std</th>\n",
       "      <td>1.118047</td>\n",
       "      <td>4.534570e+07</td>\n",
       "      <td>5.655640e+10</td>\n",
       "    </tr>\n",
       "    <tr>\n",
       "      <th>min</th>\n",
       "      <td>1.000000</td>\n",
       "      <td>2.000000e+00</td>\n",
       "      <td>1.698886e+02</td>\n",
       "    </tr>\n",
       "    <tr>\n",
       "      <th>25%</th>\n",
       "      <td>2.000000</td>\n",
       "      <td>2.521455e+05</td>\n",
       "      <td>4.578292e+08</td>\n",
       "    </tr>\n",
       "    <tr>\n",
       "      <th>50%</th>\n",
       "      <td>3.000000</td>\n",
       "      <td>1.558070e+06</td>\n",
       "      <td>2.868918e+09</td>\n",
       "    </tr>\n",
       "    <tr>\n",
       "      <th>75%</th>\n",
       "      <td>4.000000</td>\n",
       "      <td>8.122777e+06</td>\n",
       "      <td>1.352423e+10</td>\n",
       "    </tr>\n",
       "    <tr>\n",
       "      <th>max</th>\n",
       "      <td>4.000000</td>\n",
       "      <td>1.674348e+09</td>\n",
       "      <td>1.790144e+12</td>\n",
       "    </tr>\n",
       "  </tbody>\n",
       "</table>\n",
       "</div>"
      ],
      "text/plain": [
       "            Quarter  Transaction_count  Transaction_amount\n",
       "count  20604.000000       2.060400e+04        2.060400e+04\n",
       "mean       2.505581       1.141935e+07        1.676967e+10\n",
       "std        1.118047       4.534570e+07        5.655640e+10\n",
       "min        1.000000       2.000000e+00        1.698886e+02\n",
       "25%        2.000000       2.521455e+05        4.578292e+08\n",
       "50%        3.000000       1.558070e+06        2.868918e+09\n",
       "75%        4.000000       8.122777e+06        1.352423e+10\n",
       "max        4.000000       1.674348e+09        1.790144e+12"
      ]
     },
     "execution_count": 15,
     "metadata": {},
     "output_type": "execute_result"
    }
   ],
   "source": [
    "Map_Transaction_df.describe()"
   ]
  },
  {
   "cell_type": "code",
   "execution_count": 16,
   "id": "f8d3a146",
   "metadata": {},
   "outputs": [
    {
     "name": "stdout",
     "output_type": "stream",
     "text": [
      "<class 'pandas.core.frame.DataFrame'>\n",
      "RangeIndex: 20604 entries, 0 to 20603\n",
      "Data columns (total 6 columns):\n",
      " #   Column              Non-Null Count  Dtype  \n",
      "---  ------              --------------  -----  \n",
      " 0   State               20604 non-null  object \n",
      " 1   Year                20604 non-null  object \n",
      " 2   Quarter             20604 non-null  int64  \n",
      " 3   District_name       20604 non-null  object \n",
      " 4   Transaction_count   20604 non-null  int64  \n",
      " 5   Transaction_amount  20604 non-null  float64\n",
      "dtypes: float64(1), int64(2), object(3)\n",
      "memory usage: 965.9+ KB\n"
     ]
    }
   ],
   "source": [
    "Map_Transaction_df.info()"
   ]
  },
  {
   "cell_type": "code",
   "execution_count": 17,
   "id": "76f1f691",
   "metadata": {},
   "outputs": [],
   "source": [
    "Map_Transaction_df['Year'] = Map_Transaction_df['Year'].astype(int)\n",
    "Map_Transaction_df['State'] = Map_Transaction_df['State'].str.replace('-', ' ').str.title()\n",
    "Map_Transaction_df['District_name'] = Map_Transaction_df['District_name'].str.title()"
   ]
  },
  {
   "cell_type": "code",
   "execution_count": 18,
   "id": "8ec5f053",
   "metadata": {},
   "outputs": [
    {
     "name": "stdout",
     "output_type": "stream",
     "text": [
      "<class 'pandas.core.frame.DataFrame'>\n",
      "RangeIndex: 20604 entries, 0 to 20603\n",
      "Data columns (total 6 columns):\n",
      " #   Column              Non-Null Count  Dtype  \n",
      "---  ------              --------------  -----  \n",
      " 0   State               20604 non-null  object \n",
      " 1   Year                20604 non-null  int64  \n",
      " 2   Quarter             20604 non-null  int64  \n",
      " 3   District_name       20604 non-null  object \n",
      " 4   Transaction_count   20604 non-null  int64  \n",
      " 5   Transaction_amount  20604 non-null  float64\n",
      "dtypes: float64(1), int64(3), object(2)\n",
      "memory usage: 965.9+ KB\n"
     ]
    }
   ],
   "source": [
    "Map_Transaction_df.info()"
   ]
  },
  {
   "cell_type": "code",
   "execution_count": 19,
   "id": "44b0a6c2",
   "metadata": {},
   "outputs": [
    {
     "data": {
      "text/plain": [
       "(20604, 6)"
      ]
     },
     "execution_count": 19,
     "metadata": {},
     "output_type": "execute_result"
    }
   ],
   "source": [
    "Map_Transaction_df.shape"
   ]
  },
  {
   "cell_type": "code",
   "execution_count": 20,
   "id": "c1a62bc4",
   "metadata": {},
   "outputs": [
    {
     "data": {
      "text/plain": [
       "State                 0\n",
       "Year                  0\n",
       "Quarter               0\n",
       "District_name         0\n",
       "Transaction_count     0\n",
       "Transaction_amount    0\n",
       "dtype: int64"
      ]
     },
     "execution_count": 20,
     "metadata": {},
     "output_type": "execute_result"
    }
   ],
   "source": [
    "Map_Transaction_df.isnull().sum()"
   ]
  },
  {
   "cell_type": "code",
   "execution_count": 21,
   "id": "d8baef40",
   "metadata": {},
   "outputs": [
    {
     "data": {
      "text/html": [
       "<div>\n",
       "<style scoped>\n",
       "    .dataframe tbody tr th:only-of-type {\n",
       "        vertical-align: middle;\n",
       "    }\n",
       "\n",
       "    .dataframe tbody tr th {\n",
       "        vertical-align: top;\n",
       "    }\n",
       "\n",
       "    .dataframe thead th {\n",
       "        text-align: right;\n",
       "    }\n",
       "</style>\n",
       "<table border=\"1\" class=\"dataframe\">\n",
       "  <thead>\n",
       "    <tr style=\"text-align: right;\">\n",
       "      <th></th>\n",
       "      <th>State</th>\n",
       "      <th>Year</th>\n",
       "      <th>Quarter</th>\n",
       "      <th>District_name</th>\n",
       "      <th>Transaction_count</th>\n",
       "      <th>Transaction_amount</th>\n",
       "    </tr>\n",
       "  </thead>\n",
       "  <tbody>\n",
       "    <tr>\n",
       "      <th>0</th>\n",
       "      <td>Andaman &amp; Nicobar Islands</td>\n",
       "      <td>2018</td>\n",
       "      <td>1</td>\n",
       "      <td>North And Middle Andaman District</td>\n",
       "      <td>442</td>\n",
       "      <td>9.316631e+05</td>\n",
       "    </tr>\n",
       "    <tr>\n",
       "      <th>1</th>\n",
       "      <td>Andaman &amp; Nicobar Islands</td>\n",
       "      <td>2018</td>\n",
       "      <td>1</td>\n",
       "      <td>South Andaman District</td>\n",
       "      <td>5688</td>\n",
       "      <td>1.256025e+07</td>\n",
       "    </tr>\n",
       "    <tr>\n",
       "      <th>2</th>\n",
       "      <td>Andaman &amp; Nicobar Islands</td>\n",
       "      <td>2018</td>\n",
       "      <td>1</td>\n",
       "      <td>Nicobars District</td>\n",
       "      <td>528</td>\n",
       "      <td>1.139849e+06</td>\n",
       "    </tr>\n",
       "    <tr>\n",
       "      <th>3</th>\n",
       "      <td>Andaman &amp; Nicobar Islands</td>\n",
       "      <td>2018</td>\n",
       "      <td>2</td>\n",
       "      <td>North And Middle Andaman District</td>\n",
       "      <td>825</td>\n",
       "      <td>1.317863e+06</td>\n",
       "    </tr>\n",
       "    <tr>\n",
       "      <th>4</th>\n",
       "      <td>Andaman &amp; Nicobar Islands</td>\n",
       "      <td>2018</td>\n",
       "      <td>2</td>\n",
       "      <td>South Andaman District</td>\n",
       "      <td>9395</td>\n",
       "      <td>2.394824e+07</td>\n",
       "    </tr>\n",
       "  </tbody>\n",
       "</table>\n",
       "</div>"
      ],
      "text/plain": [
       "                       State  Year  Quarter  \\\n",
       "0  Andaman & Nicobar Islands  2018        1   \n",
       "1  Andaman & Nicobar Islands  2018        1   \n",
       "2  Andaman & Nicobar Islands  2018        1   \n",
       "3  Andaman & Nicobar Islands  2018        2   \n",
       "4  Andaman & Nicobar Islands  2018        2   \n",
       "\n",
       "                       District_name  Transaction_count  Transaction_amount  \n",
       "0  North And Middle Andaman District                442        9.316631e+05  \n",
       "1             South Andaman District               5688        1.256025e+07  \n",
       "2                  Nicobars District                528        1.139849e+06  \n",
       "3  North And Middle Andaman District                825        1.317863e+06  \n",
       "4             South Andaman District               9395        2.394824e+07  "
      ]
     },
     "execution_count": 21,
     "metadata": {},
     "output_type": "execute_result"
    }
   ],
   "source": [
    "Map_Transaction_df.head()"
   ]
  },
  {
   "cell_type": "markdown",
   "id": "de1c1d98",
   "metadata": {},
   "source": [
    "***Top_Transaction***"
   ]
  },
  {
   "cell_type": "code",
   "execution_count": 22,
   "id": "2d6f1185",
   "metadata": {},
   "outputs": [],
   "source": [
    "Top_path = \"D:/D26_Files/Phonepe_Analytics/pulse/data/top/transaction/country/india/state/\"\n",
    "Top_state_list = os.listdir(Top_path)\n",
    "\n",
    "Top_txn_data = { 'State': [], 'Year': [], 'Quarter': [], 'Entity_type': [],   'Entity_name': [],   'Transaction_count': [], 'Transaction_amount': []}\n",
    "\n",
    "for state_name in Top_state_list:\n",
    "    state_path = Top_path + state_name + \"/\"\n",
    "    Top_yr = os.listdir(state_path)\n",
    "    \n",
    "    for year in Top_yr:\n",
    "        year_path = state_path + year + \"/\"\n",
    "        Top_yr_list = os.listdir(year_path)\n",
    "        \n",
    "        for quarter_file in Top_yr_list:\n",
    "            quarter_path = year_path + quarter_file\n",
    "            Data = open(quarter_path, 'r')\n",
    "            D = json.load(Data)\n",
    "            \n",
    "            for entity_type in ['states', 'districts', 'pincodes']:\n",
    "                if D['data'][entity_type] is not None:   \n",
    "                    for record in D['data'][entity_type]:\n",
    "                        Name = record['entityName']\n",
    "                        Count = record['metric']['count']\n",
    "                        Amount = record['metric']['amount']\n",
    "                        \n",
    "                        Top_txn_data['Entity_type'].append(entity_type[:-1])  \n",
    "                        Top_txn_data['Entity_name'].append(Name)\n",
    "                        Top_txn_data['Transaction_count'].append(Count)\n",
    "                        Top_txn_data['Transaction_amount'].append(Amount)\n",
    "                        Top_txn_data['State'].append(state_name)\n",
    "                        Top_txn_data['Year'].append(year)\n",
    "                        Top_txn_data['Quarter'].append(int(quarter_file.strip('.json')))\n",
    "\n",
    "Top_Transaction_df = pd.DataFrame(Top_txn_data)"
   ]
  },
  {
   "cell_type": "code",
   "execution_count": 23,
   "id": "072b95ae",
   "metadata": {},
   "outputs": [
    {
     "data": {
      "text/html": [
       "<div>\n",
       "<style scoped>\n",
       "    .dataframe tbody tr th:only-of-type {\n",
       "        vertical-align: middle;\n",
       "    }\n",
       "\n",
       "    .dataframe tbody tr th {\n",
       "        vertical-align: top;\n",
       "    }\n",
       "\n",
       "    .dataframe thead th {\n",
       "        text-align: right;\n",
       "    }\n",
       "</style>\n",
       "<table border=\"1\" class=\"dataframe\">\n",
       "  <thead>\n",
       "    <tr style=\"text-align: right;\">\n",
       "      <th></th>\n",
       "      <th>State</th>\n",
       "      <th>Year</th>\n",
       "      <th>Quarter</th>\n",
       "      <th>Entity_type</th>\n",
       "      <th>Entity_name</th>\n",
       "      <th>Transaction_count</th>\n",
       "      <th>Transaction_amount</th>\n",
       "    </tr>\n",
       "  </thead>\n",
       "  <tbody>\n",
       "    <tr>\n",
       "      <th>0</th>\n",
       "      <td>andaman-&amp;-nicobar-islands</td>\n",
       "      <td>2018</td>\n",
       "      <td>1</td>\n",
       "      <td>district</td>\n",
       "      <td>south andaman</td>\n",
       "      <td>5688</td>\n",
       "      <td>1.256025e+07</td>\n",
       "    </tr>\n",
       "    <tr>\n",
       "      <th>1</th>\n",
       "      <td>andaman-&amp;-nicobar-islands</td>\n",
       "      <td>2018</td>\n",
       "      <td>1</td>\n",
       "      <td>district</td>\n",
       "      <td>nicobars</td>\n",
       "      <td>528</td>\n",
       "      <td>1.139849e+06</td>\n",
       "    </tr>\n",
       "    <tr>\n",
       "      <th>2</th>\n",
       "      <td>andaman-&amp;-nicobar-islands</td>\n",
       "      <td>2018</td>\n",
       "      <td>1</td>\n",
       "      <td>district</td>\n",
       "      <td>north and middle andaman</td>\n",
       "      <td>442</td>\n",
       "      <td>9.316631e+05</td>\n",
       "    </tr>\n",
       "    <tr>\n",
       "      <th>3</th>\n",
       "      <td>andaman-&amp;-nicobar-islands</td>\n",
       "      <td>2018</td>\n",
       "      <td>1</td>\n",
       "      <td>pincode</td>\n",
       "      <td>744101</td>\n",
       "      <td>1622</td>\n",
       "      <td>2.769298e+06</td>\n",
       "    </tr>\n",
       "    <tr>\n",
       "      <th>4</th>\n",
       "      <td>andaman-&amp;-nicobar-islands</td>\n",
       "      <td>2018</td>\n",
       "      <td>1</td>\n",
       "      <td>pincode</td>\n",
       "      <td>744103</td>\n",
       "      <td>1223</td>\n",
       "      <td>2.238042e+06</td>\n",
       "    </tr>\n",
       "  </tbody>\n",
       "</table>\n",
       "</div>"
      ],
      "text/plain": [
       "                       State  Year  Quarter Entity_type  \\\n",
       "0  andaman-&-nicobar-islands  2018        1    district   \n",
       "1  andaman-&-nicobar-islands  2018        1    district   \n",
       "2  andaman-&-nicobar-islands  2018        1    district   \n",
       "3  andaman-&-nicobar-islands  2018        1     pincode   \n",
       "4  andaman-&-nicobar-islands  2018        1     pincode   \n",
       "\n",
       "                Entity_name  Transaction_count  Transaction_amount  \n",
       "0             south andaman               5688        1.256025e+07  \n",
       "1                  nicobars                528        1.139849e+06  \n",
       "2  north and middle andaman                442        9.316631e+05  \n",
       "3                    744101               1622        2.769298e+06  \n",
       "4                    744103               1223        2.238042e+06  "
      ]
     },
     "execution_count": 23,
     "metadata": {},
     "output_type": "execute_result"
    }
   ],
   "source": [
    "Top_Transaction_df.head()"
   ]
  },
  {
   "cell_type": "code",
   "execution_count": 24,
   "id": "c4ad3124",
   "metadata": {},
   "outputs": [
    {
     "data": {
      "text/html": [
       "<div>\n",
       "<style scoped>\n",
       "    .dataframe tbody tr th:only-of-type {\n",
       "        vertical-align: middle;\n",
       "    }\n",
       "\n",
       "    .dataframe tbody tr th {\n",
       "        vertical-align: top;\n",
       "    }\n",
       "\n",
       "    .dataframe thead th {\n",
       "        text-align: right;\n",
       "    }\n",
       "</style>\n",
       "<table border=\"1\" class=\"dataframe\">\n",
       "  <thead>\n",
       "    <tr style=\"text-align: right;\">\n",
       "      <th></th>\n",
       "      <th>Quarter</th>\n",
       "      <th>Transaction_count</th>\n",
       "      <th>Transaction_amount</th>\n",
       "    </tr>\n",
       "  </thead>\n",
       "  <tbody>\n",
       "    <tr>\n",
       "      <th>count</th>\n",
       "      <td>18295.000000</td>\n",
       "      <td>1.829500e+04</td>\n",
       "      <td>1.829500e+04</td>\n",
       "    </tr>\n",
       "    <tr>\n",
       "      <th>mean</th>\n",
       "      <td>2.500738</td>\n",
       "      <td>1.197467e+07</td>\n",
       "      <td>1.690444e+10</td>\n",
       "    </tr>\n",
       "    <tr>\n",
       "      <th>std</th>\n",
       "      <td>1.118040</td>\n",
       "      <td>4.962090e+07</td>\n",
       "      <td>6.277009e+10</td>\n",
       "    </tr>\n",
       "    <tr>\n",
       "      <th>min</th>\n",
       "      <td>1.000000</td>\n",
       "      <td>2.000000e+00</td>\n",
       "      <td>6.025276e+01</td>\n",
       "    </tr>\n",
       "    <tr>\n",
       "      <th>25%</th>\n",
       "      <td>2.000000</td>\n",
       "      <td>1.222215e+05</td>\n",
       "      <td>2.372684e+08</td>\n",
       "    </tr>\n",
       "    <tr>\n",
       "      <th>50%</th>\n",
       "      <td>3.000000</td>\n",
       "      <td>9.845220e+05</td>\n",
       "      <td>1.538457e+09</td>\n",
       "    </tr>\n",
       "    <tr>\n",
       "      <th>75%</th>\n",
       "      <td>4.000000</td>\n",
       "      <td>6.708908e+06</td>\n",
       "      <td>1.033093e+10</td>\n",
       "    </tr>\n",
       "    <tr>\n",
       "      <th>max</th>\n",
       "      <td>4.000000</td>\n",
       "      <td>1.674348e+09</td>\n",
       "      <td>1.790144e+12</td>\n",
       "    </tr>\n",
       "  </tbody>\n",
       "</table>\n",
       "</div>"
      ],
      "text/plain": [
       "            Quarter  Transaction_count  Transaction_amount\n",
       "count  18295.000000       1.829500e+04        1.829500e+04\n",
       "mean       2.500738       1.197467e+07        1.690444e+10\n",
       "std        1.118040       4.962090e+07        6.277009e+10\n",
       "min        1.000000       2.000000e+00        6.025276e+01\n",
       "25%        2.000000       1.222215e+05        2.372684e+08\n",
       "50%        3.000000       9.845220e+05        1.538457e+09\n",
       "75%        4.000000       6.708908e+06        1.033093e+10\n",
       "max        4.000000       1.674348e+09        1.790144e+12"
      ]
     },
     "execution_count": 24,
     "metadata": {},
     "output_type": "execute_result"
    }
   ],
   "source": [
    "Top_Transaction_df.describe()"
   ]
  },
  {
   "cell_type": "code",
   "execution_count": 25,
   "id": "b680e446",
   "metadata": {},
   "outputs": [
    {
     "name": "stdout",
     "output_type": "stream",
     "text": [
      "<class 'pandas.core.frame.DataFrame'>\n",
      "RangeIndex: 18295 entries, 0 to 18294\n",
      "Data columns (total 7 columns):\n",
      " #   Column              Non-Null Count  Dtype  \n",
      "---  ------              --------------  -----  \n",
      " 0   State               18295 non-null  object \n",
      " 1   Year                18295 non-null  object \n",
      " 2   Quarter             18295 non-null  int64  \n",
      " 3   Entity_type         18295 non-null  object \n",
      " 4   Entity_name         18293 non-null  object \n",
      " 5   Transaction_count   18295 non-null  int64  \n",
      " 6   Transaction_amount  18295 non-null  float64\n",
      "dtypes: float64(1), int64(2), object(4)\n",
      "memory usage: 1000.6+ KB\n"
     ]
    }
   ],
   "source": [
    "Top_Transaction_df.info()"
   ]
  },
  {
   "cell_type": "code",
   "execution_count": 26,
   "id": "8beb19df",
   "metadata": {},
   "outputs": [
    {
     "data": {
      "text/plain": [
       "(18295, 7)"
      ]
     },
     "execution_count": 26,
     "metadata": {},
     "output_type": "execute_result"
    }
   ],
   "source": [
    "Top_Transaction_df.shape"
   ]
  },
  {
   "cell_type": "code",
   "execution_count": 27,
   "id": "6f23192e",
   "metadata": {},
   "outputs": [
    {
     "data": {
      "text/plain": [
       "State                 0\n",
       "Year                  0\n",
       "Quarter               0\n",
       "Entity_type           0\n",
       "Entity_name           2\n",
       "Transaction_count     0\n",
       "Transaction_amount    0\n",
       "dtype: int64"
      ]
     },
     "execution_count": 27,
     "metadata": {},
     "output_type": "execute_result"
    }
   ],
   "source": [
    "Top_Transaction_df.isnull().sum()"
   ]
  },
  {
   "cell_type": "code",
   "execution_count": 28,
   "id": "25a11593",
   "metadata": {},
   "outputs": [
    {
     "data": {
      "text/html": [
       "<div>\n",
       "<style scoped>\n",
       "    .dataframe tbody tr th:only-of-type {\n",
       "        vertical-align: middle;\n",
       "    }\n",
       "\n",
       "    .dataframe tbody tr th {\n",
       "        vertical-align: top;\n",
       "    }\n",
       "\n",
       "    .dataframe thead th {\n",
       "        text-align: right;\n",
       "    }\n",
       "</style>\n",
       "<table border=\"1\" class=\"dataframe\">\n",
       "  <thead>\n",
       "    <tr style=\"text-align: right;\">\n",
       "      <th></th>\n",
       "      <th>State</th>\n",
       "      <th>Year</th>\n",
       "      <th>Quarter</th>\n",
       "      <th>Entity_type</th>\n",
       "      <th>Entity_name</th>\n",
       "      <th>Transaction_count</th>\n",
       "      <th>Transaction_amount</th>\n",
       "    </tr>\n",
       "  </thead>\n",
       "  <tbody>\n",
       "    <tr>\n",
       "      <th>8718</th>\n",
       "      <td>ladakh</td>\n",
       "      <td>2019</td>\n",
       "      <td>4</td>\n",
       "      <td>pincode</td>\n",
       "      <td>None</td>\n",
       "      <td>2014</td>\n",
       "      <td>1.009866e+07</td>\n",
       "    </tr>\n",
       "    <tr>\n",
       "      <th>8768</th>\n",
       "      <td>ladakh</td>\n",
       "      <td>2020</td>\n",
       "      <td>4</td>\n",
       "      <td>pincode</td>\n",
       "      <td>None</td>\n",
       "      <td>13717</td>\n",
       "      <td>3.671160e+07</td>\n",
       "    </tr>\n",
       "  </tbody>\n",
       "</table>\n",
       "</div>"
      ],
      "text/plain": [
       "       State  Year  Quarter Entity_type Entity_name  Transaction_count  \\\n",
       "8718  ladakh  2019        4     pincode        None               2014   \n",
       "8768  ladakh  2020        4     pincode        None              13717   \n",
       "\n",
       "      Transaction_amount  \n",
       "8718        1.009866e+07  \n",
       "8768        3.671160e+07  "
      ]
     },
     "execution_count": 28,
     "metadata": {},
     "output_type": "execute_result"
    }
   ],
   "source": [
    "Top_Transaction_df[Top_Transaction_df.isnull().any(axis=1)]"
   ]
  },
  {
   "cell_type": "code",
   "execution_count": 29,
   "id": "bc28c16b",
   "metadata": {},
   "outputs": [],
   "source": [
    "Top_Transaction_df['Entity_name'] = Top_Transaction_df['Entity_name'].fillna(\"Unknown\")\n"
   ]
  },
  {
   "cell_type": "code",
   "execution_count": 30,
   "id": "58f5a6c8",
   "metadata": {},
   "outputs": [
    {
     "data": {
      "text/plain": [
       "State                 0\n",
       "Year                  0\n",
       "Quarter               0\n",
       "Entity_type           0\n",
       "Entity_name           0\n",
       "Transaction_count     0\n",
       "Transaction_amount    0\n",
       "dtype: int64"
      ]
     },
     "execution_count": 30,
     "metadata": {},
     "output_type": "execute_result"
    }
   ],
   "source": [
    "Top_Transaction_df.isnull().sum()"
   ]
  },
  {
   "cell_type": "code",
   "execution_count": 31,
   "id": "a671ff9d",
   "metadata": {},
   "outputs": [],
   "source": [
    "Top_Transaction_df['Year'] = Top_Transaction_df['Year'].astype(int)\n",
    "Top_Transaction_df['Entity_type'] = Top_Transaction_df['Entity_type'].str.title()\n",
    "Top_Transaction_df['Entity_name'] = Top_Transaction_df['Entity_name'].str.title()\n",
    "Top_Transaction_df['State'] = Top_Transaction_df['State'].str.replace('-', ' ').str.title()"
   ]
  },
  {
   "cell_type": "code",
   "execution_count": 32,
   "id": "4136550d",
   "metadata": {},
   "outputs": [
    {
     "name": "stdout",
     "output_type": "stream",
     "text": [
      "<class 'pandas.core.frame.DataFrame'>\n",
      "RangeIndex: 18295 entries, 0 to 18294\n",
      "Data columns (total 7 columns):\n",
      " #   Column              Non-Null Count  Dtype  \n",
      "---  ------              --------------  -----  \n",
      " 0   State               18295 non-null  object \n",
      " 1   Year                18295 non-null  int64  \n",
      " 2   Quarter             18295 non-null  int64  \n",
      " 3   Entity_type         18295 non-null  object \n",
      " 4   Entity_name         18295 non-null  object \n",
      " 5   Transaction_count   18295 non-null  int64  \n",
      " 6   Transaction_amount  18295 non-null  float64\n",
      "dtypes: float64(1), int64(3), object(3)\n",
      "memory usage: 1000.6+ KB\n"
     ]
    }
   ],
   "source": [
    "Top_Transaction_df.info()"
   ]
  },
  {
   "cell_type": "code",
   "execution_count": 33,
   "id": "af84a0a1",
   "metadata": {},
   "outputs": [
    {
     "data": {
      "text/html": [
       "<div>\n",
       "<style scoped>\n",
       "    .dataframe tbody tr th:only-of-type {\n",
       "        vertical-align: middle;\n",
       "    }\n",
       "\n",
       "    .dataframe tbody tr th {\n",
       "        vertical-align: top;\n",
       "    }\n",
       "\n",
       "    .dataframe thead th {\n",
       "        text-align: right;\n",
       "    }\n",
       "</style>\n",
       "<table border=\"1\" class=\"dataframe\">\n",
       "  <thead>\n",
       "    <tr style=\"text-align: right;\">\n",
       "      <th></th>\n",
       "      <th>State</th>\n",
       "      <th>Year</th>\n",
       "      <th>Quarter</th>\n",
       "      <th>Entity_type</th>\n",
       "      <th>Entity_name</th>\n",
       "      <th>Transaction_count</th>\n",
       "      <th>Transaction_amount</th>\n",
       "    </tr>\n",
       "  </thead>\n",
       "  <tbody>\n",
       "    <tr>\n",
       "      <th>0</th>\n",
       "      <td>Andaman &amp; Nicobar Islands</td>\n",
       "      <td>2018</td>\n",
       "      <td>1</td>\n",
       "      <td>District</td>\n",
       "      <td>South Andaman</td>\n",
       "      <td>5688</td>\n",
       "      <td>1.256025e+07</td>\n",
       "    </tr>\n",
       "    <tr>\n",
       "      <th>1</th>\n",
       "      <td>Andaman &amp; Nicobar Islands</td>\n",
       "      <td>2018</td>\n",
       "      <td>1</td>\n",
       "      <td>District</td>\n",
       "      <td>Nicobars</td>\n",
       "      <td>528</td>\n",
       "      <td>1.139849e+06</td>\n",
       "    </tr>\n",
       "    <tr>\n",
       "      <th>2</th>\n",
       "      <td>Andaman &amp; Nicobar Islands</td>\n",
       "      <td>2018</td>\n",
       "      <td>1</td>\n",
       "      <td>District</td>\n",
       "      <td>North And Middle Andaman</td>\n",
       "      <td>442</td>\n",
       "      <td>9.316631e+05</td>\n",
       "    </tr>\n",
       "    <tr>\n",
       "      <th>3</th>\n",
       "      <td>Andaman &amp; Nicobar Islands</td>\n",
       "      <td>2018</td>\n",
       "      <td>1</td>\n",
       "      <td>Pincode</td>\n",
       "      <td>744101</td>\n",
       "      <td>1622</td>\n",
       "      <td>2.769298e+06</td>\n",
       "    </tr>\n",
       "    <tr>\n",
       "      <th>4</th>\n",
       "      <td>Andaman &amp; Nicobar Islands</td>\n",
       "      <td>2018</td>\n",
       "      <td>1</td>\n",
       "      <td>Pincode</td>\n",
       "      <td>744103</td>\n",
       "      <td>1223</td>\n",
       "      <td>2.238042e+06</td>\n",
       "    </tr>\n",
       "  </tbody>\n",
       "</table>\n",
       "</div>"
      ],
      "text/plain": [
       "                       State  Year  Quarter Entity_type  \\\n",
       "0  Andaman & Nicobar Islands  2018        1    District   \n",
       "1  Andaman & Nicobar Islands  2018        1    District   \n",
       "2  Andaman & Nicobar Islands  2018        1    District   \n",
       "3  Andaman & Nicobar Islands  2018        1     Pincode   \n",
       "4  Andaman & Nicobar Islands  2018        1     Pincode   \n",
       "\n",
       "                Entity_name  Transaction_count  Transaction_amount  \n",
       "0             South Andaman               5688        1.256025e+07  \n",
       "1                  Nicobars                528        1.139849e+06  \n",
       "2  North And Middle Andaman                442        9.316631e+05  \n",
       "3                    744101               1622        2.769298e+06  \n",
       "4                    744103               1223        2.238042e+06  "
      ]
     },
     "execution_count": 33,
     "metadata": {},
     "output_type": "execute_result"
    }
   ],
   "source": [
    "Top_Transaction_df.head()"
   ]
  },
  {
   "cell_type": "markdown",
   "id": "aafc4aa4",
   "metadata": {},
   "source": [
    "***Agg_Insurance_Transaction***"
   ]
  },
  {
   "cell_type": "code",
   "execution_count": 34,
   "id": "41bc014f",
   "metadata": {},
   "outputs": [],
   "source": [
    "Insurance_path = \"D:/D26_Files/Phonepe_Analytics/pulse/data/aggregated/insurance/country/india/state/\"\n",
    "Insurance_state_list = os.listdir(Insurance_path)\n",
    "\n",
    "Insurance_data={'State':[], 'Year':[],'Quarter':[], 'Insurance_txn_count':[], 'Insurance_txn_amount':[]}\n",
    "\n",
    "for state_name in Insurance_state_list:\n",
    "    state_path = Insurance_path + state_name + \"/\"\n",
    "    Insurance_yr = os.listdir(state_path)\n",
    "    \n",
    "    for year in Insurance_yr:\n",
    "        year_path = state_path + year+ \"/\"\n",
    "        Insurance_yr_list = os.listdir(year_path)\n",
    "        \n",
    "        for quarter_file in Insurance_yr_list:\n",
    "            quarter_path = year_path + quarter_file\n",
    "            with open(quarter_path,'r') as Data:\n",
    "                D = json.load(Data)\n",
    "            \n",
    "            for category in D['data']['transactionData']:\n",
    "              Count = category['paymentInstruments'][0]['count']\n",
    "              Amount = category['paymentInstruments'][0]['amount']\n",
    "              \n",
    "              Insurance_data['Insurance_txn_count'].append(Count)\n",
    "              Insurance_data['Insurance_txn_amount'].append(Amount)\n",
    "              Insurance_data['State'].append(state_name)\n",
    "              Insurance_data['Year'].append(year)\n",
    "              Insurance_data['Quarter'].append(int(quarter_file.strip('.json')))\n",
    "\n",
    "Insurance_Transaction_df = pd.DataFrame(Insurance_data)"
   ]
  },
  {
   "cell_type": "code",
   "execution_count": 35,
   "id": "6120ffe3",
   "metadata": {},
   "outputs": [
    {
     "data": {
      "text/html": [
       "<div>\n",
       "<style scoped>\n",
       "    .dataframe tbody tr th:only-of-type {\n",
       "        vertical-align: middle;\n",
       "    }\n",
       "\n",
       "    .dataframe tbody tr th {\n",
       "        vertical-align: top;\n",
       "    }\n",
       "\n",
       "    .dataframe thead th {\n",
       "        text-align: right;\n",
       "    }\n",
       "</style>\n",
       "<table border=\"1\" class=\"dataframe\">\n",
       "  <thead>\n",
       "    <tr style=\"text-align: right;\">\n",
       "      <th></th>\n",
       "      <th>State</th>\n",
       "      <th>Year</th>\n",
       "      <th>Quarter</th>\n",
       "      <th>Insurance_txn_count</th>\n",
       "      <th>Insurance_txn_amount</th>\n",
       "    </tr>\n",
       "  </thead>\n",
       "  <tbody>\n",
       "    <tr>\n",
       "      <th>0</th>\n",
       "      <td>andaman-&amp;-nicobar-islands</td>\n",
       "      <td>2020</td>\n",
       "      <td>2</td>\n",
       "      <td>6</td>\n",
       "      <td>1360.0</td>\n",
       "    </tr>\n",
       "    <tr>\n",
       "      <th>1</th>\n",
       "      <td>andaman-&amp;-nicobar-islands</td>\n",
       "      <td>2020</td>\n",
       "      <td>3</td>\n",
       "      <td>41</td>\n",
       "      <td>15380.0</td>\n",
       "    </tr>\n",
       "    <tr>\n",
       "      <th>2</th>\n",
       "      <td>andaman-&amp;-nicobar-islands</td>\n",
       "      <td>2020</td>\n",
       "      <td>4</td>\n",
       "      <td>124</td>\n",
       "      <td>157975.0</td>\n",
       "    </tr>\n",
       "    <tr>\n",
       "      <th>3</th>\n",
       "      <td>andaman-&amp;-nicobar-islands</td>\n",
       "      <td>2021</td>\n",
       "      <td>1</td>\n",
       "      <td>225</td>\n",
       "      <td>244266.0</td>\n",
       "    </tr>\n",
       "    <tr>\n",
       "      <th>4</th>\n",
       "      <td>andaman-&amp;-nicobar-islands</td>\n",
       "      <td>2021</td>\n",
       "      <td>2</td>\n",
       "      <td>137</td>\n",
       "      <td>181504.0</td>\n",
       "    </tr>\n",
       "  </tbody>\n",
       "</table>\n",
       "</div>"
      ],
      "text/plain": [
       "                       State  Year  Quarter  Insurance_txn_count  \\\n",
       "0  andaman-&-nicobar-islands  2020        2                    6   \n",
       "1  andaman-&-nicobar-islands  2020        3                   41   \n",
       "2  andaman-&-nicobar-islands  2020        4                  124   \n",
       "3  andaman-&-nicobar-islands  2021        1                  225   \n",
       "4  andaman-&-nicobar-islands  2021        2                  137   \n",
       "\n",
       "   Insurance_txn_amount  \n",
       "0                1360.0  \n",
       "1               15380.0  \n",
       "2              157975.0  \n",
       "3              244266.0  \n",
       "4              181504.0  "
      ]
     },
     "execution_count": 35,
     "metadata": {},
     "output_type": "execute_result"
    }
   ],
   "source": [
    "Insurance_Transaction_df.head()"
   ]
  },
  {
   "cell_type": "code",
   "execution_count": 36,
   "id": "40df3dea",
   "metadata": {},
   "outputs": [
    {
     "data": {
      "text/html": [
       "<div>\n",
       "<style scoped>\n",
       "    .dataframe tbody tr th:only-of-type {\n",
       "        vertical-align: middle;\n",
       "    }\n",
       "\n",
       "    .dataframe tbody tr th {\n",
       "        vertical-align: top;\n",
       "    }\n",
       "\n",
       "    .dataframe thead th {\n",
       "        text-align: right;\n",
       "    }\n",
       "</style>\n",
       "<table border=\"1\" class=\"dataframe\">\n",
       "  <thead>\n",
       "    <tr style=\"text-align: right;\">\n",
       "      <th></th>\n",
       "      <th>Quarter</th>\n",
       "      <th>Insurance_txn_count</th>\n",
       "      <th>Insurance_txn_amount</th>\n",
       "    </tr>\n",
       "  </thead>\n",
       "  <tbody>\n",
       "    <tr>\n",
       "      <th>count</th>\n",
       "      <td>682.000000</td>\n",
       "      <td>682.000000</td>\n",
       "      <td>6.820000e+02</td>\n",
       "    </tr>\n",
       "    <tr>\n",
       "      <th>mean</th>\n",
       "      <td>2.577713</td>\n",
       "      <td>21283.998534</td>\n",
       "      <td>2.934836e+07</td>\n",
       "    </tr>\n",
       "    <tr>\n",
       "      <th>std</th>\n",
       "      <td>1.092211</td>\n",
       "      <td>31503.745791</td>\n",
       "      <td>4.763085e+07</td>\n",
       "    </tr>\n",
       "    <tr>\n",
       "      <th>min</th>\n",
       "      <td>1.000000</td>\n",
       "      <td>4.000000</td>\n",
       "      <td>1.199000e+03</td>\n",
       "    </tr>\n",
       "    <tr>\n",
       "      <th>25%</th>\n",
       "      <td>2.000000</td>\n",
       "      <td>607.750000</td>\n",
       "      <td>8.211475e+05</td>\n",
       "    </tr>\n",
       "    <tr>\n",
       "      <th>50%</th>\n",
       "      <td>3.000000</td>\n",
       "      <td>6679.500000</td>\n",
       "      <td>6.675645e+06</td>\n",
       "    </tr>\n",
       "    <tr>\n",
       "      <th>75%</th>\n",
       "      <td>4.000000</td>\n",
       "      <td>29790.500000</td>\n",
       "      <td>3.730685e+07</td>\n",
       "    </tr>\n",
       "    <tr>\n",
       "      <th>max</th>\n",
       "      <td>4.000000</td>\n",
       "      <td>183532.000000</td>\n",
       "      <td>3.058618e+08</td>\n",
       "    </tr>\n",
       "  </tbody>\n",
       "</table>\n",
       "</div>"
      ],
      "text/plain": [
       "          Quarter  Insurance_txn_count  Insurance_txn_amount\n",
       "count  682.000000           682.000000          6.820000e+02\n",
       "mean     2.577713         21283.998534          2.934836e+07\n",
       "std      1.092211         31503.745791          4.763085e+07\n",
       "min      1.000000             4.000000          1.199000e+03\n",
       "25%      2.000000           607.750000          8.211475e+05\n",
       "50%      3.000000          6679.500000          6.675645e+06\n",
       "75%      4.000000         29790.500000          3.730685e+07\n",
       "max      4.000000        183532.000000          3.058618e+08"
      ]
     },
     "execution_count": 36,
     "metadata": {},
     "output_type": "execute_result"
    }
   ],
   "source": [
    "Insurance_Transaction_df.describe()"
   ]
  },
  {
   "cell_type": "code",
   "execution_count": 37,
   "id": "c1ff5e95",
   "metadata": {},
   "outputs": [
    {
     "name": "stdout",
     "output_type": "stream",
     "text": [
      "<class 'pandas.core.frame.DataFrame'>\n",
      "RangeIndex: 682 entries, 0 to 681\n",
      "Data columns (total 5 columns):\n",
      " #   Column                Non-Null Count  Dtype  \n",
      "---  ------                --------------  -----  \n",
      " 0   State                 682 non-null    object \n",
      " 1   Year                  682 non-null    object \n",
      " 2   Quarter               682 non-null    int64  \n",
      " 3   Insurance_txn_count   682 non-null    int64  \n",
      " 4   Insurance_txn_amount  682 non-null    float64\n",
      "dtypes: float64(1), int64(2), object(2)\n",
      "memory usage: 26.8+ KB\n"
     ]
    }
   ],
   "source": [
    "Insurance_Transaction_df.info()"
   ]
  },
  {
   "cell_type": "code",
   "execution_count": 38,
   "id": "4c706eb5",
   "metadata": {},
   "outputs": [
    {
     "data": {
      "text/plain": [
       "State                   0\n",
       "Year                    0\n",
       "Quarter                 0\n",
       "Insurance_txn_count     0\n",
       "Insurance_txn_amount    0\n",
       "dtype: int64"
      ]
     },
     "execution_count": 38,
     "metadata": {},
     "output_type": "execute_result"
    }
   ],
   "source": [
    "Insurance_Transaction_df.isnull().sum()"
   ]
  },
  {
   "cell_type": "code",
   "execution_count": 39,
   "id": "195e76b4",
   "metadata": {},
   "outputs": [
    {
     "data": {
      "text/plain": [
       "(682, 5)"
      ]
     },
     "execution_count": 39,
     "metadata": {},
     "output_type": "execute_result"
    }
   ],
   "source": [
    "Insurance_Transaction_df.shape"
   ]
  },
  {
   "cell_type": "code",
   "execution_count": 40,
   "id": "95beb154",
   "metadata": {},
   "outputs": [],
   "source": [
    "Insurance_Transaction_df['Year'] = Insurance_Transaction_df['Year'].astype(int)\n",
    "Insurance_Transaction_df['State'] = Insurance_Transaction_df['State'].str.replace('-', ' ').str.title()"
   ]
  },
  {
   "cell_type": "code",
   "execution_count": 41,
   "id": "2ff7ba31",
   "metadata": {},
   "outputs": [
    {
     "data": {
      "text/html": [
       "<div>\n",
       "<style scoped>\n",
       "    .dataframe tbody tr th:only-of-type {\n",
       "        vertical-align: middle;\n",
       "    }\n",
       "\n",
       "    .dataframe tbody tr th {\n",
       "        vertical-align: top;\n",
       "    }\n",
       "\n",
       "    .dataframe thead th {\n",
       "        text-align: right;\n",
       "    }\n",
       "</style>\n",
       "<table border=\"1\" class=\"dataframe\">\n",
       "  <thead>\n",
       "    <tr style=\"text-align: right;\">\n",
       "      <th></th>\n",
       "      <th>State</th>\n",
       "      <th>Year</th>\n",
       "      <th>Quarter</th>\n",
       "      <th>Insurance_txn_count</th>\n",
       "      <th>Insurance_txn_amount</th>\n",
       "    </tr>\n",
       "  </thead>\n",
       "  <tbody>\n",
       "    <tr>\n",
       "      <th>0</th>\n",
       "      <td>Andaman &amp; Nicobar Islands</td>\n",
       "      <td>2020</td>\n",
       "      <td>2</td>\n",
       "      <td>6</td>\n",
       "      <td>1360.0</td>\n",
       "    </tr>\n",
       "    <tr>\n",
       "      <th>1</th>\n",
       "      <td>Andaman &amp; Nicobar Islands</td>\n",
       "      <td>2020</td>\n",
       "      <td>3</td>\n",
       "      <td>41</td>\n",
       "      <td>15380.0</td>\n",
       "    </tr>\n",
       "    <tr>\n",
       "      <th>2</th>\n",
       "      <td>Andaman &amp; Nicobar Islands</td>\n",
       "      <td>2020</td>\n",
       "      <td>4</td>\n",
       "      <td>124</td>\n",
       "      <td>157975.0</td>\n",
       "    </tr>\n",
       "    <tr>\n",
       "      <th>3</th>\n",
       "      <td>Andaman &amp; Nicobar Islands</td>\n",
       "      <td>2021</td>\n",
       "      <td>1</td>\n",
       "      <td>225</td>\n",
       "      <td>244266.0</td>\n",
       "    </tr>\n",
       "    <tr>\n",
       "      <th>4</th>\n",
       "      <td>Andaman &amp; Nicobar Islands</td>\n",
       "      <td>2021</td>\n",
       "      <td>2</td>\n",
       "      <td>137</td>\n",
       "      <td>181504.0</td>\n",
       "    </tr>\n",
       "  </tbody>\n",
       "</table>\n",
       "</div>"
      ],
      "text/plain": [
       "                       State  Year  Quarter  Insurance_txn_count  \\\n",
       "0  Andaman & Nicobar Islands  2020        2                    6   \n",
       "1  Andaman & Nicobar Islands  2020        3                   41   \n",
       "2  Andaman & Nicobar Islands  2020        4                  124   \n",
       "3  Andaman & Nicobar Islands  2021        1                  225   \n",
       "4  Andaman & Nicobar Islands  2021        2                  137   \n",
       "\n",
       "   Insurance_txn_amount  \n",
       "0                1360.0  \n",
       "1               15380.0  \n",
       "2              157975.0  \n",
       "3              244266.0  \n",
       "4              181504.0  "
      ]
     },
     "execution_count": 41,
     "metadata": {},
     "output_type": "execute_result"
    }
   ],
   "source": [
    "Insurance_Transaction_df.head()"
   ]
  },
  {
   "cell_type": "markdown",
   "id": "c1f7da90",
   "metadata": {},
   "source": [
    "***Agg_User***"
   ]
  },
  {
   "cell_type": "code",
   "execution_count": 42,
   "id": "f4d9e185",
   "metadata": {},
   "outputs": [],
   "source": [
    "Agg_User_path = \"D:/D26_Files/Phonepe_Analytics/pulse/data/aggregated/user/country/india/state/\"\n",
    "Agg_User_state_list = os.listdir(Agg_User_path)\n",
    "\n",
    "Agg_User_data = {'State':[], 'Year':[], 'Quarter':[], 'Registered_users':[], 'App_opens':[], 'Brand':[], 'Brand_count':[], 'Brand_percentage':[] }\n",
    "\n",
    "for state_name in Agg_User_state_list:\n",
    "    state_path = Agg_User_path + state_name + \"/\"\n",
    "    Agg_User_yr = os.listdir(state_path)\n",
    "\n",
    "    for year in Agg_User_yr:\n",
    "        year_path = state_path + year + \"/\"\n",
    "        Agg_User_yr_list = os.listdir(year_path)\n",
    "\n",
    "        for quarter_file in Agg_User_yr_list:\n",
    "            quarter_path = year_path + quarter_file\n",
    "            with open(quarter_path, 'r') as Data:\n",
    "                D = json.load(Data)\n",
    "\n",
    "            reg_users = D['data']['aggregated']['registeredUsers']\n",
    "            app_opens = D['data']['aggregated']['appOpens']\n",
    "\n",
    "            for device in D['data'].get('usersByDevice') or []:\n",
    "                brand = device['brand']\n",
    "                count = device['count']\n",
    "                percentage = device['percentage']\n",
    "\n",
    "                Agg_User_data['State'].append(state_name)\n",
    "                Agg_User_data['Year'].append(year)\n",
    "                Agg_User_data['Quarter'].append(int(quarter_file.strip('.json')))\n",
    "                Agg_User_data['Registered_users'].append(reg_users)\n",
    "                Agg_User_data['App_opens'].append(app_opens)\n",
    "                Agg_User_data['Brand'].append(brand)\n",
    "                Agg_User_data['Brand_count'].append(count)\n",
    "                Agg_User_data['Brand_percentage'].append(percentage)\n",
    "\n",
    "Agg_User_df = pd.DataFrame(Agg_User_data)"
   ]
  },
  {
   "cell_type": "code",
   "execution_count": 43,
   "id": "3d8a78ca",
   "metadata": {},
   "outputs": [
    {
     "data": {
      "text/html": [
       "<div>\n",
       "<style scoped>\n",
       "    .dataframe tbody tr th:only-of-type {\n",
       "        vertical-align: middle;\n",
       "    }\n",
       "\n",
       "    .dataframe tbody tr th {\n",
       "        vertical-align: top;\n",
       "    }\n",
       "\n",
       "    .dataframe thead th {\n",
       "        text-align: right;\n",
       "    }\n",
       "</style>\n",
       "<table border=\"1\" class=\"dataframe\">\n",
       "  <thead>\n",
       "    <tr style=\"text-align: right;\">\n",
       "      <th></th>\n",
       "      <th>State</th>\n",
       "      <th>Year</th>\n",
       "      <th>Quarter</th>\n",
       "      <th>Registered_users</th>\n",
       "      <th>App_opens</th>\n",
       "      <th>Brand</th>\n",
       "      <th>Brand_count</th>\n",
       "      <th>Brand_percentage</th>\n",
       "    </tr>\n",
       "  </thead>\n",
       "  <tbody>\n",
       "    <tr>\n",
       "      <th>0</th>\n",
       "      <td>andaman-&amp;-nicobar-islands</td>\n",
       "      <td>2018</td>\n",
       "      <td>1</td>\n",
       "      <td>6740</td>\n",
       "      <td>0</td>\n",
       "      <td>Xiaomi</td>\n",
       "      <td>1665</td>\n",
       "      <td>0.247033</td>\n",
       "    </tr>\n",
       "    <tr>\n",
       "      <th>1</th>\n",
       "      <td>andaman-&amp;-nicobar-islands</td>\n",
       "      <td>2018</td>\n",
       "      <td>1</td>\n",
       "      <td>6740</td>\n",
       "      <td>0</td>\n",
       "      <td>Samsung</td>\n",
       "      <td>1445</td>\n",
       "      <td>0.214392</td>\n",
       "    </tr>\n",
       "    <tr>\n",
       "      <th>2</th>\n",
       "      <td>andaman-&amp;-nicobar-islands</td>\n",
       "      <td>2018</td>\n",
       "      <td>1</td>\n",
       "      <td>6740</td>\n",
       "      <td>0</td>\n",
       "      <td>Vivo</td>\n",
       "      <td>982</td>\n",
       "      <td>0.145697</td>\n",
       "    </tr>\n",
       "    <tr>\n",
       "      <th>3</th>\n",
       "      <td>andaman-&amp;-nicobar-islands</td>\n",
       "      <td>2018</td>\n",
       "      <td>1</td>\n",
       "      <td>6740</td>\n",
       "      <td>0</td>\n",
       "      <td>Oppo</td>\n",
       "      <td>501</td>\n",
       "      <td>0.074332</td>\n",
       "    </tr>\n",
       "    <tr>\n",
       "      <th>4</th>\n",
       "      <td>andaman-&amp;-nicobar-islands</td>\n",
       "      <td>2018</td>\n",
       "      <td>1</td>\n",
       "      <td>6740</td>\n",
       "      <td>0</td>\n",
       "      <td>OnePlus</td>\n",
       "      <td>332</td>\n",
       "      <td>0.049258</td>\n",
       "    </tr>\n",
       "  </tbody>\n",
       "</table>\n",
       "</div>"
      ],
      "text/plain": [
       "                       State  Year  Quarter  Registered_users  App_opens  \\\n",
       "0  andaman-&-nicobar-islands  2018        1              6740          0   \n",
       "1  andaman-&-nicobar-islands  2018        1              6740          0   \n",
       "2  andaman-&-nicobar-islands  2018        1              6740          0   \n",
       "3  andaman-&-nicobar-islands  2018        1              6740          0   \n",
       "4  andaman-&-nicobar-islands  2018        1              6740          0   \n",
       "\n",
       "     Brand  Brand_count  Brand_percentage  \n",
       "0   Xiaomi         1665          0.247033  \n",
       "1  Samsung         1445          0.214392  \n",
       "2     Vivo          982          0.145697  \n",
       "3     Oppo          501          0.074332  \n",
       "4  OnePlus          332          0.049258  "
      ]
     },
     "execution_count": 43,
     "metadata": {},
     "output_type": "execute_result"
    }
   ],
   "source": [
    "Agg_User_df.head()"
   ]
  },
  {
   "cell_type": "code",
   "execution_count": 44,
   "id": "319f3734",
   "metadata": {},
   "outputs": [
    {
     "data": {
      "text/html": [
       "<div>\n",
       "<style scoped>\n",
       "    .dataframe tbody tr th:only-of-type {\n",
       "        vertical-align: middle;\n",
       "    }\n",
       "\n",
       "    .dataframe tbody tr th {\n",
       "        vertical-align: top;\n",
       "    }\n",
       "\n",
       "    .dataframe thead th {\n",
       "        text-align: right;\n",
       "    }\n",
       "</style>\n",
       "<table border=\"1\" class=\"dataframe\">\n",
       "  <thead>\n",
       "    <tr style=\"text-align: right;\">\n",
       "      <th></th>\n",
       "      <th>Quarter</th>\n",
       "      <th>Registered_users</th>\n",
       "      <th>App_opens</th>\n",
       "      <th>Brand_count</th>\n",
       "      <th>Brand_percentage</th>\n",
       "    </tr>\n",
       "  </thead>\n",
       "  <tbody>\n",
       "    <tr>\n",
       "      <th>count</th>\n",
       "      <td>6732.000000</td>\n",
       "      <td>6.732000e+03</td>\n",
       "      <td>6.732000e+03</td>\n",
       "      <td>6.732000e+03</td>\n",
       "      <td>6732.000000</td>\n",
       "    </tr>\n",
       "    <tr>\n",
       "      <th>mean</th>\n",
       "      <td>2.411765</td>\n",
       "      <td>5.654126e+06</td>\n",
       "      <td>1.510069e+08</td>\n",
       "      <td>5.140115e+05</td>\n",
       "      <td>0.090909</td>\n",
       "    </tr>\n",
       "    <tr>\n",
       "      <th>std</th>\n",
       "      <td>1.140715</td>\n",
       "      <td>7.955764e+06</td>\n",
       "      <td>3.236699e+08</td>\n",
       "      <td>1.081772e+06</td>\n",
       "      <td>0.083401</td>\n",
       "    </tr>\n",
       "    <tr>\n",
       "      <th>min</th>\n",
       "      <td>1.000000</td>\n",
       "      <td>5.010000e+02</td>\n",
       "      <td>0.000000e+00</td>\n",
       "      <td>1.000000e+01</td>\n",
       "      <td>0.005158</td>\n",
       "    </tr>\n",
       "    <tr>\n",
       "      <th>25%</th>\n",
       "      <td>1.000000</td>\n",
       "      <td>1.918582e+05</td>\n",
       "      <td>0.000000e+00</td>\n",
       "      <td>9.354000e+03</td>\n",
       "      <td>0.020513</td>\n",
       "    </tr>\n",
       "    <tr>\n",
       "      <th>50%</th>\n",
       "      <td>2.000000</td>\n",
       "      <td>1.978676e+06</td>\n",
       "      <td>5.893784e+06</td>\n",
       "      <td>8.472250e+04</td>\n",
       "      <td>0.057718</td>\n",
       "    </tr>\n",
       "    <tr>\n",
       "      <th>75%</th>\n",
       "      <td>3.000000</td>\n",
       "      <td>8.393058e+06</td>\n",
       "      <td>1.496510e+08</td>\n",
       "      <td>4.555808e+05</td>\n",
       "      <td>0.146007</td>\n",
       "    </tr>\n",
       "    <tr>\n",
       "      <th>max</th>\n",
       "      <td>4.000000</td>\n",
       "      <td>4.822763e+07</td>\n",
       "      <td>2.570606e+09</td>\n",
       "      <td>1.134094e+07</td>\n",
       "      <td>0.478367</td>\n",
       "    </tr>\n",
       "  </tbody>\n",
       "</table>\n",
       "</div>"
      ],
      "text/plain": [
       "           Quarter  Registered_users     App_opens   Brand_count  \\\n",
       "count  6732.000000      6.732000e+03  6.732000e+03  6.732000e+03   \n",
       "mean      2.411765      5.654126e+06  1.510069e+08  5.140115e+05   \n",
       "std       1.140715      7.955764e+06  3.236699e+08  1.081772e+06   \n",
       "min       1.000000      5.010000e+02  0.000000e+00  1.000000e+01   \n",
       "25%       1.000000      1.918582e+05  0.000000e+00  9.354000e+03   \n",
       "50%       2.000000      1.978676e+06  5.893784e+06  8.472250e+04   \n",
       "75%       3.000000      8.393058e+06  1.496510e+08  4.555808e+05   \n",
       "max       4.000000      4.822763e+07  2.570606e+09  1.134094e+07   \n",
       "\n",
       "       Brand_percentage  \n",
       "count       6732.000000  \n",
       "mean           0.090909  \n",
       "std            0.083401  \n",
       "min            0.005158  \n",
       "25%            0.020513  \n",
       "50%            0.057718  \n",
       "75%            0.146007  \n",
       "max            0.478367  "
      ]
     },
     "execution_count": 44,
     "metadata": {},
     "output_type": "execute_result"
    }
   ],
   "source": [
    "Agg_User_df.describe()"
   ]
  },
  {
   "cell_type": "code",
   "execution_count": 45,
   "id": "fc66f6de",
   "metadata": {},
   "outputs": [
    {
     "name": "stdout",
     "output_type": "stream",
     "text": [
      "<class 'pandas.core.frame.DataFrame'>\n",
      "RangeIndex: 6732 entries, 0 to 6731\n",
      "Data columns (total 8 columns):\n",
      " #   Column            Non-Null Count  Dtype  \n",
      "---  ------            --------------  -----  \n",
      " 0   State             6732 non-null   object \n",
      " 1   Year              6732 non-null   object \n",
      " 2   Quarter           6732 non-null   int64  \n",
      " 3   Registered_users  6732 non-null   int64  \n",
      " 4   App_opens         6732 non-null   int64  \n",
      " 5   Brand             6732 non-null   object \n",
      " 6   Brand_count       6732 non-null   int64  \n",
      " 7   Brand_percentage  6732 non-null   float64\n",
      "dtypes: float64(1), int64(4), object(3)\n",
      "memory usage: 420.9+ KB\n"
     ]
    }
   ],
   "source": [
    "Agg_User_df.info()"
   ]
  },
  {
   "cell_type": "code",
   "execution_count": 46,
   "id": "bd32078b",
   "metadata": {},
   "outputs": [
    {
     "data": {
      "text/plain": [
       "(6732, 8)"
      ]
     },
     "execution_count": 46,
     "metadata": {},
     "output_type": "execute_result"
    }
   ],
   "source": [
    "Agg_User_df.shape"
   ]
  },
  {
   "cell_type": "code",
   "execution_count": 47,
   "id": "0ced791a",
   "metadata": {},
   "outputs": [
    {
     "data": {
      "text/plain": [
       "State               0\n",
       "Year                0\n",
       "Quarter             0\n",
       "Registered_users    0\n",
       "App_opens           0\n",
       "Brand               0\n",
       "Brand_count         0\n",
       "Brand_percentage    0\n",
       "dtype: int64"
      ]
     },
     "execution_count": 47,
     "metadata": {},
     "output_type": "execute_result"
    }
   ],
   "source": [
    "Agg_User_df.isnull().sum()"
   ]
  },
  {
   "cell_type": "code",
   "execution_count": 48,
   "id": "8b40afe2",
   "metadata": {},
   "outputs": [],
   "source": [
    "Agg_User_df['Year'] = Agg_User_df['Year'].astype(int)\n",
    "Agg_User_df['State'] = Agg_User_df['State'].str.replace('-', ' ').str.title()"
   ]
  },
  {
   "cell_type": "code",
   "execution_count": 49,
   "id": "01d3053d",
   "metadata": {},
   "outputs": [
    {
     "name": "stdout",
     "output_type": "stream",
     "text": [
      "<class 'pandas.core.frame.DataFrame'>\n",
      "RangeIndex: 6732 entries, 0 to 6731\n",
      "Data columns (total 8 columns):\n",
      " #   Column            Non-Null Count  Dtype  \n",
      "---  ------            --------------  -----  \n",
      " 0   State             6732 non-null   object \n",
      " 1   Year              6732 non-null   int64  \n",
      " 2   Quarter           6732 non-null   int64  \n",
      " 3   Registered_users  6732 non-null   int64  \n",
      " 4   App_opens         6732 non-null   int64  \n",
      " 5   Brand             6732 non-null   object \n",
      " 6   Brand_count       6732 non-null   int64  \n",
      " 7   Brand_percentage  6732 non-null   float64\n",
      "dtypes: float64(1), int64(5), object(2)\n",
      "memory usage: 420.9+ KB\n"
     ]
    }
   ],
   "source": [
    "Agg_User_df.info()"
   ]
  },
  {
   "cell_type": "code",
   "execution_count": 50,
   "id": "ae06085a",
   "metadata": {},
   "outputs": [
    {
     "data": {
      "text/plain": [
       "array(['Xiaomi', 'Samsung', 'Vivo', 'Oppo', 'OnePlus', 'Realme', 'Apple',\n",
       "       'Motorola', 'Lenovo', 'Huawei', 'Others', 'Tecno', 'Gionee',\n",
       "       'Infinix', 'Asus', 'Micromax', 'HMD Global', 'Lava', 'COOLPAD',\n",
       "       'Lyf'], dtype=object)"
      ]
     },
     "execution_count": 50,
     "metadata": {},
     "output_type": "execute_result"
    }
   ],
   "source": [
    "Agg_User_df['Brand'].unique()"
   ]
  },
  {
   "cell_type": "code",
   "execution_count": 51,
   "id": "c04cd857",
   "metadata": {},
   "outputs": [
    {
     "data": {
      "text/html": [
       "<div>\n",
       "<style scoped>\n",
       "    .dataframe tbody tr th:only-of-type {\n",
       "        vertical-align: middle;\n",
       "    }\n",
       "\n",
       "    .dataframe tbody tr th {\n",
       "        vertical-align: top;\n",
       "    }\n",
       "\n",
       "    .dataframe thead th {\n",
       "        text-align: right;\n",
       "    }\n",
       "</style>\n",
       "<table border=\"1\" class=\"dataframe\">\n",
       "  <thead>\n",
       "    <tr style=\"text-align: right;\">\n",
       "      <th></th>\n",
       "      <th>State</th>\n",
       "      <th>Year</th>\n",
       "      <th>Quarter</th>\n",
       "      <th>Registered_users</th>\n",
       "      <th>App_opens</th>\n",
       "      <th>Brand</th>\n",
       "      <th>Brand_count</th>\n",
       "      <th>Brand_percentage</th>\n",
       "    </tr>\n",
       "  </thead>\n",
       "  <tbody>\n",
       "    <tr>\n",
       "      <th>0</th>\n",
       "      <td>Andaman &amp; Nicobar Islands</td>\n",
       "      <td>2018</td>\n",
       "      <td>1</td>\n",
       "      <td>6740</td>\n",
       "      <td>0</td>\n",
       "      <td>Xiaomi</td>\n",
       "      <td>1665</td>\n",
       "      <td>0.247033</td>\n",
       "    </tr>\n",
       "    <tr>\n",
       "      <th>1</th>\n",
       "      <td>Andaman &amp; Nicobar Islands</td>\n",
       "      <td>2018</td>\n",
       "      <td>1</td>\n",
       "      <td>6740</td>\n",
       "      <td>0</td>\n",
       "      <td>Samsung</td>\n",
       "      <td>1445</td>\n",
       "      <td>0.214392</td>\n",
       "    </tr>\n",
       "    <tr>\n",
       "      <th>2</th>\n",
       "      <td>Andaman &amp; Nicobar Islands</td>\n",
       "      <td>2018</td>\n",
       "      <td>1</td>\n",
       "      <td>6740</td>\n",
       "      <td>0</td>\n",
       "      <td>Vivo</td>\n",
       "      <td>982</td>\n",
       "      <td>0.145697</td>\n",
       "    </tr>\n",
       "    <tr>\n",
       "      <th>3</th>\n",
       "      <td>Andaman &amp; Nicobar Islands</td>\n",
       "      <td>2018</td>\n",
       "      <td>1</td>\n",
       "      <td>6740</td>\n",
       "      <td>0</td>\n",
       "      <td>Oppo</td>\n",
       "      <td>501</td>\n",
       "      <td>0.074332</td>\n",
       "    </tr>\n",
       "    <tr>\n",
       "      <th>4</th>\n",
       "      <td>Andaman &amp; Nicobar Islands</td>\n",
       "      <td>2018</td>\n",
       "      <td>1</td>\n",
       "      <td>6740</td>\n",
       "      <td>0</td>\n",
       "      <td>OnePlus</td>\n",
       "      <td>332</td>\n",
       "      <td>0.049258</td>\n",
       "    </tr>\n",
       "  </tbody>\n",
       "</table>\n",
       "</div>"
      ],
      "text/plain": [
       "                       State  Year  Quarter  Registered_users  App_opens  \\\n",
       "0  Andaman & Nicobar Islands  2018        1              6740          0   \n",
       "1  Andaman & Nicobar Islands  2018        1              6740          0   \n",
       "2  Andaman & Nicobar Islands  2018        1              6740          0   \n",
       "3  Andaman & Nicobar Islands  2018        1              6740          0   \n",
       "4  Andaman & Nicobar Islands  2018        1              6740          0   \n",
       "\n",
       "     Brand  Brand_count  Brand_percentage  \n",
       "0   Xiaomi         1665          0.247033  \n",
       "1  Samsung         1445          0.214392  \n",
       "2     Vivo          982          0.145697  \n",
       "3     Oppo          501          0.074332  \n",
       "4  OnePlus          332          0.049258  "
      ]
     },
     "execution_count": 51,
     "metadata": {},
     "output_type": "execute_result"
    }
   ],
   "source": [
    "Agg_User_df.head()"
   ]
  },
  {
   "cell_type": "markdown",
   "id": "2ca177ee",
   "metadata": {},
   "source": [
    "***Map_User***"
   ]
  },
  {
   "cell_type": "code",
   "execution_count": 52,
   "id": "a9580581",
   "metadata": {},
   "outputs": [],
   "source": [
    "Map_User_path = \"D:/D26_Files/Phonepe_Analytics/pulse/data/map/user/hover/country/india/state/\"\n",
    "Map_User_state_list = os.listdir(Map_User_path)\n",
    "\n",
    "Map_User_data = {'State':[], 'Year':[], 'Quarter':[], 'District':[], 'Registered_users':[], 'App_opens':[] }\n",
    "\n",
    "for state_name in Map_User_state_list:\n",
    "    state_path = Map_User_path + state_name + \"/\"\n",
    "    Map_User_yr = os.listdir(state_path)\n",
    "\n",
    "    for year in Map_User_yr:\n",
    "        year_path = state_path + year + \"/\"\n",
    "        Map_User_yr_list = os.listdir(year_path)\n",
    "\n",
    "        for quarter_file in Map_User_yr_list:\n",
    "            quarter_path = year_path + quarter_file\n",
    "            with open(quarter_path, 'r') as Data:\n",
    "                D = json.load(Data)\n",
    "\n",
    "            for district, values in D['data']['hoverData'].items():\n",
    "                \n",
    "                reg_users = values['registeredUsers']\n",
    "                app_opens = values['appOpens']\n",
    "                \n",
    "\n",
    "                Map_User_data['State'].append(state_name)\n",
    "                Map_User_data['Year'].append(year)\n",
    "                Map_User_data['Quarter'].append(int(quarter_file.strip('.json')))\n",
    "                Map_User_data['District'].append(district)\n",
    "                Map_User_data['Registered_users'].append(reg_users)\n",
    "                Map_User_data['App_opens'].append(app_opens)\n",
    "                \n",
    "\n",
    "Map_User_df = pd.DataFrame(Map_User_data)"
   ]
  },
  {
   "cell_type": "code",
   "execution_count": 53,
   "id": "869bf323",
   "metadata": {},
   "outputs": [
    {
     "data": {
      "text/html": [
       "<div>\n",
       "<style scoped>\n",
       "    .dataframe tbody tr th:only-of-type {\n",
       "        vertical-align: middle;\n",
       "    }\n",
       "\n",
       "    .dataframe tbody tr th {\n",
       "        vertical-align: top;\n",
       "    }\n",
       "\n",
       "    .dataframe thead th {\n",
       "        text-align: right;\n",
       "    }\n",
       "</style>\n",
       "<table border=\"1\" class=\"dataframe\">\n",
       "  <thead>\n",
       "    <tr style=\"text-align: right;\">\n",
       "      <th></th>\n",
       "      <th>State</th>\n",
       "      <th>Year</th>\n",
       "      <th>Quarter</th>\n",
       "      <th>District</th>\n",
       "      <th>Registered_users</th>\n",
       "      <th>App_opens</th>\n",
       "    </tr>\n",
       "  </thead>\n",
       "  <tbody>\n",
       "    <tr>\n",
       "      <th>0</th>\n",
       "      <td>andaman-&amp;-nicobar-islands</td>\n",
       "      <td>2018</td>\n",
       "      <td>1</td>\n",
       "      <td>north and middle andaman district</td>\n",
       "      <td>632</td>\n",
       "      <td>0</td>\n",
       "    </tr>\n",
       "    <tr>\n",
       "      <th>1</th>\n",
       "      <td>andaman-&amp;-nicobar-islands</td>\n",
       "      <td>2018</td>\n",
       "      <td>1</td>\n",
       "      <td>south andaman district</td>\n",
       "      <td>5846</td>\n",
       "      <td>0</td>\n",
       "    </tr>\n",
       "    <tr>\n",
       "      <th>2</th>\n",
       "      <td>andaman-&amp;-nicobar-islands</td>\n",
       "      <td>2018</td>\n",
       "      <td>1</td>\n",
       "      <td>nicobars district</td>\n",
       "      <td>262</td>\n",
       "      <td>0</td>\n",
       "    </tr>\n",
       "    <tr>\n",
       "      <th>3</th>\n",
       "      <td>andaman-&amp;-nicobar-islands</td>\n",
       "      <td>2018</td>\n",
       "      <td>2</td>\n",
       "      <td>north and middle andaman district</td>\n",
       "      <td>911</td>\n",
       "      <td>0</td>\n",
       "    </tr>\n",
       "    <tr>\n",
       "      <th>4</th>\n",
       "      <td>andaman-&amp;-nicobar-islands</td>\n",
       "      <td>2018</td>\n",
       "      <td>2</td>\n",
       "      <td>south andaman district</td>\n",
       "      <td>8143</td>\n",
       "      <td>0</td>\n",
       "    </tr>\n",
       "  </tbody>\n",
       "</table>\n",
       "</div>"
      ],
      "text/plain": [
       "                       State  Year  Quarter  \\\n",
       "0  andaman-&-nicobar-islands  2018        1   \n",
       "1  andaman-&-nicobar-islands  2018        1   \n",
       "2  andaman-&-nicobar-islands  2018        1   \n",
       "3  andaman-&-nicobar-islands  2018        2   \n",
       "4  andaman-&-nicobar-islands  2018        2   \n",
       "\n",
       "                            District  Registered_users  App_opens  \n",
       "0  north and middle andaman district               632          0  \n",
       "1             south andaman district              5846          0  \n",
       "2                  nicobars district               262          0  \n",
       "3  north and middle andaman district               911          0  \n",
       "4             south andaman district              8143          0  "
      ]
     },
     "execution_count": 53,
     "metadata": {},
     "output_type": "execute_result"
    }
   ],
   "source": [
    "Map_User_df.head()"
   ]
  },
  {
   "cell_type": "code",
   "execution_count": 54,
   "id": "5b4087c6",
   "metadata": {},
   "outputs": [
    {
     "data": {
      "text/plain": [
       "(20608, 6)"
      ]
     },
     "execution_count": 54,
     "metadata": {},
     "output_type": "execute_result"
    }
   ],
   "source": [
    "Map_User_df.shape"
   ]
  },
  {
   "cell_type": "code",
   "execution_count": 55,
   "id": "0b1d0872",
   "metadata": {},
   "outputs": [
    {
     "data": {
      "text/html": [
       "<div>\n",
       "<style scoped>\n",
       "    .dataframe tbody tr th:only-of-type {\n",
       "        vertical-align: middle;\n",
       "    }\n",
       "\n",
       "    .dataframe tbody tr th {\n",
       "        vertical-align: top;\n",
       "    }\n",
       "\n",
       "    .dataframe thead th {\n",
       "        text-align: right;\n",
       "    }\n",
       "</style>\n",
       "<table border=\"1\" class=\"dataframe\">\n",
       "  <thead>\n",
       "    <tr style=\"text-align: right;\">\n",
       "      <th></th>\n",
       "      <th>Quarter</th>\n",
       "      <th>Registered_users</th>\n",
       "      <th>App_opens</th>\n",
       "    </tr>\n",
       "  </thead>\n",
       "  <tbody>\n",
       "    <tr>\n",
       "      <th>count</th>\n",
       "      <td>20608.000000</td>\n",
       "      <td>2.060800e+04</td>\n",
       "      <td>2.060800e+04</td>\n",
       "    </tr>\n",
       "    <tr>\n",
       "      <th>mean</th>\n",
       "      <td>2.505435</td>\n",
       "      <td>4.301338e+05</td>\n",
       "      <td>1.952097e+07</td>\n",
       "    </tr>\n",
       "    <tr>\n",
       "      <th>std</th>\n",
       "      <td>1.118048</td>\n",
       "      <td>8.148492e+05</td>\n",
       "      <td>4.004047e+07</td>\n",
       "    </tr>\n",
       "    <tr>\n",
       "      <th>min</th>\n",
       "      <td>1.000000</td>\n",
       "      <td>2.200000e+01</td>\n",
       "      <td>0.000000e+00</td>\n",
       "    </tr>\n",
       "    <tr>\n",
       "      <th>25%</th>\n",
       "      <td>2.000000</td>\n",
       "      <td>6.208525e+04</td>\n",
       "      <td>4.839385e+05</td>\n",
       "    </tr>\n",
       "    <tr>\n",
       "      <th>50%</th>\n",
       "      <td>3.000000</td>\n",
       "      <td>1.995320e+05</td>\n",
       "      <td>5.946804e+06</td>\n",
       "    </tr>\n",
       "    <tr>\n",
       "      <th>75%</th>\n",
       "      <td>4.000000</td>\n",
       "      <td>4.896048e+05</td>\n",
       "      <td>2.191529e+07</td>\n",
       "    </tr>\n",
       "    <tr>\n",
       "      <th>max</th>\n",
       "      <td>4.000000</td>\n",
       "      <td>1.812748e+07</td>\n",
       "      <td>1.137875e+09</td>\n",
       "    </tr>\n",
       "  </tbody>\n",
       "</table>\n",
       "</div>"
      ],
      "text/plain": [
       "            Quarter  Registered_users     App_opens\n",
       "count  20608.000000      2.060800e+04  2.060800e+04\n",
       "mean       2.505435      4.301338e+05  1.952097e+07\n",
       "std        1.118048      8.148492e+05  4.004047e+07\n",
       "min        1.000000      2.200000e+01  0.000000e+00\n",
       "25%        2.000000      6.208525e+04  4.839385e+05\n",
       "50%        3.000000      1.995320e+05  5.946804e+06\n",
       "75%        4.000000      4.896048e+05  2.191529e+07\n",
       "max        4.000000      1.812748e+07  1.137875e+09"
      ]
     },
     "execution_count": 55,
     "metadata": {},
     "output_type": "execute_result"
    }
   ],
   "source": [
    "Map_User_df.describe()"
   ]
  },
  {
   "cell_type": "code",
   "execution_count": 56,
   "id": "1e640a40",
   "metadata": {},
   "outputs": [
    {
     "name": "stdout",
     "output_type": "stream",
     "text": [
      "<class 'pandas.core.frame.DataFrame'>\n",
      "RangeIndex: 20608 entries, 0 to 20607\n",
      "Data columns (total 6 columns):\n",
      " #   Column            Non-Null Count  Dtype \n",
      "---  ------            --------------  ----- \n",
      " 0   State             20608 non-null  object\n",
      " 1   Year              20608 non-null  object\n",
      " 2   Quarter           20608 non-null  int64 \n",
      " 3   District          20608 non-null  object\n",
      " 4   Registered_users  20608 non-null  int64 \n",
      " 5   App_opens         20608 non-null  int64 \n",
      "dtypes: int64(3), object(3)\n",
      "memory usage: 966.1+ KB\n"
     ]
    }
   ],
   "source": [
    "Map_User_df.info()"
   ]
  },
  {
   "cell_type": "code",
   "execution_count": 57,
   "id": "6958f76c",
   "metadata": {},
   "outputs": [
    {
     "data": {
      "text/plain": [
       "State               0\n",
       "Year                0\n",
       "Quarter             0\n",
       "District            0\n",
       "Registered_users    0\n",
       "App_opens           0\n",
       "dtype: int64"
      ]
     },
     "execution_count": 57,
     "metadata": {},
     "output_type": "execute_result"
    }
   ],
   "source": [
    "Map_User_df.isnull().sum()"
   ]
  },
  {
   "cell_type": "code",
   "execution_count": 58,
   "id": "530511e8",
   "metadata": {},
   "outputs": [],
   "source": [
    "Map_User_df['Year'] = Map_User_df['Year'].astype(int)\n",
    "Map_User_df['District'] = Map_User_df['District'].str.title()\n",
    "Map_User_df['State'] = Map_User_df['State'].str.replace('-', ' ').str.title()"
   ]
  },
  {
   "cell_type": "code",
   "execution_count": 59,
   "id": "5f77b5f5",
   "metadata": {},
   "outputs": [
    {
     "name": "stdout",
     "output_type": "stream",
     "text": [
      "<class 'pandas.core.frame.DataFrame'>\n",
      "RangeIndex: 20608 entries, 0 to 20607\n",
      "Data columns (total 6 columns):\n",
      " #   Column            Non-Null Count  Dtype \n",
      "---  ------            --------------  ----- \n",
      " 0   State             20608 non-null  object\n",
      " 1   Year              20608 non-null  int64 \n",
      " 2   Quarter           20608 non-null  int64 \n",
      " 3   District          20608 non-null  object\n",
      " 4   Registered_users  20608 non-null  int64 \n",
      " 5   App_opens         20608 non-null  int64 \n",
      "dtypes: int64(4), object(2)\n",
      "memory usage: 966.1+ KB\n"
     ]
    }
   ],
   "source": [
    "Map_User_df.info()"
   ]
  },
  {
   "cell_type": "code",
   "execution_count": 60,
   "id": "dc8c6632",
   "metadata": {},
   "outputs": [
    {
     "data": {
      "text/html": [
       "<div>\n",
       "<style scoped>\n",
       "    .dataframe tbody tr th:only-of-type {\n",
       "        vertical-align: middle;\n",
       "    }\n",
       "\n",
       "    .dataframe tbody tr th {\n",
       "        vertical-align: top;\n",
       "    }\n",
       "\n",
       "    .dataframe thead th {\n",
       "        text-align: right;\n",
       "    }\n",
       "</style>\n",
       "<table border=\"1\" class=\"dataframe\">\n",
       "  <thead>\n",
       "    <tr style=\"text-align: right;\">\n",
       "      <th></th>\n",
       "      <th>State</th>\n",
       "      <th>Year</th>\n",
       "      <th>Quarter</th>\n",
       "      <th>District</th>\n",
       "      <th>Registered_users</th>\n",
       "      <th>App_opens</th>\n",
       "    </tr>\n",
       "  </thead>\n",
       "  <tbody>\n",
       "    <tr>\n",
       "      <th>0</th>\n",
       "      <td>Andaman &amp; Nicobar Islands</td>\n",
       "      <td>2018</td>\n",
       "      <td>1</td>\n",
       "      <td>North And Middle Andaman District</td>\n",
       "      <td>632</td>\n",
       "      <td>0</td>\n",
       "    </tr>\n",
       "    <tr>\n",
       "      <th>1</th>\n",
       "      <td>Andaman &amp; Nicobar Islands</td>\n",
       "      <td>2018</td>\n",
       "      <td>1</td>\n",
       "      <td>South Andaman District</td>\n",
       "      <td>5846</td>\n",
       "      <td>0</td>\n",
       "    </tr>\n",
       "    <tr>\n",
       "      <th>2</th>\n",
       "      <td>Andaman &amp; Nicobar Islands</td>\n",
       "      <td>2018</td>\n",
       "      <td>1</td>\n",
       "      <td>Nicobars District</td>\n",
       "      <td>262</td>\n",
       "      <td>0</td>\n",
       "    </tr>\n",
       "    <tr>\n",
       "      <th>3</th>\n",
       "      <td>Andaman &amp; Nicobar Islands</td>\n",
       "      <td>2018</td>\n",
       "      <td>2</td>\n",
       "      <td>North And Middle Andaman District</td>\n",
       "      <td>911</td>\n",
       "      <td>0</td>\n",
       "    </tr>\n",
       "    <tr>\n",
       "      <th>4</th>\n",
       "      <td>Andaman &amp; Nicobar Islands</td>\n",
       "      <td>2018</td>\n",
       "      <td>2</td>\n",
       "      <td>South Andaman District</td>\n",
       "      <td>8143</td>\n",
       "      <td>0</td>\n",
       "    </tr>\n",
       "  </tbody>\n",
       "</table>\n",
       "</div>"
      ],
      "text/plain": [
       "                       State  Year  Quarter  \\\n",
       "0  Andaman & Nicobar Islands  2018        1   \n",
       "1  Andaman & Nicobar Islands  2018        1   \n",
       "2  Andaman & Nicobar Islands  2018        1   \n",
       "3  Andaman & Nicobar Islands  2018        2   \n",
       "4  Andaman & Nicobar Islands  2018        2   \n",
       "\n",
       "                            District  Registered_users  App_opens  \n",
       "0  North And Middle Andaman District               632          0  \n",
       "1             South Andaman District              5846          0  \n",
       "2                  Nicobars District               262          0  \n",
       "3  North And Middle Andaman District               911          0  \n",
       "4             South Andaman District              8143          0  "
      ]
     },
     "execution_count": 60,
     "metadata": {},
     "output_type": "execute_result"
    }
   ],
   "source": [
    "Map_User_df.head()"
   ]
  },
  {
   "cell_type": "markdown",
   "id": "c36a200b",
   "metadata": {},
   "source": [
    "**SQL Database Creation**"
   ]
  },
  {
   "cell_type": "code",
   "execution_count": 61,
   "id": "d28a8882",
   "metadata": {},
   "outputs": [
    {
     "name": "stdout",
     "output_type": "stream",
     "text": [
      "Requirement already satisfied: python-dotenv in c:\\users\\dharshan\\documents\\venvs\\phonepe_venv\\lib\\site-packages (1.1.1)\n",
      "Requirement already satisfied: pymysql in c:\\users\\dharshan\\documents\\venvs\\phonepe_venv\\lib\\site-packages (1.1.2)\n",
      "Requirement already satisfied: sqlalchemy in c:\\users\\dharshan\\documents\\venvs\\phonepe_venv\\lib\\site-packages (2.0.43)\n",
      "Requirement already satisfied: greenlet>=1 in c:\\users\\dharshan\\documents\\venvs\\phonepe_venv\\lib\\site-packages (from sqlalchemy) (3.2.4)\n",
      "Requirement already satisfied: typing-extensions>=4.6.0 in c:\\users\\dharshan\\documents\\venvs\\phonepe_venv\\lib\\site-packages (from sqlalchemy) (4.15.0)\n",
      "Note: you may need to restart the kernel to use updated packages.\n"
     ]
    }
   ],
   "source": [
    "%pip install python-dotenv pymysql sqlalchemy\n"
   ]
  },
  {
   "cell_type": "code",
   "execution_count": 64,
   "id": "6c709260",
   "metadata": {},
   "outputs": [
    {
     "data": {
      "text/plain": [
       "20608"
      ]
     },
     "execution_count": 64,
     "metadata": {},
     "output_type": "execute_result"
    }
   ],
   "source": [
    "from sqlalchemy import create_engine\n",
    "from dotenv import load_dotenv\n",
    "\n",
    "load_dotenv()\n",
    "\n",
    "user = os.getenv(\"DB_USER\")\n",
    "password = os.getenv(\"DB_PASSWORD\")\n",
    "host = os.getenv(\"DB_HOST\")\n",
    "port = os.getenv(\"DB_PORT\")\n",
    "db = os.getenv(\"DB_NAME\")\n",
    "\n",
    "\n",
    "phonepe_engine = create_engine(f\"mysql+pymysql://{user}:{password}@{host}:{port}/{db}\")\n",
    "\n",
    "\n",
    "Agg_Transaction_df.to_sql(name='agg_transaction', con = phonepe_engine, if_exists = 'replace', index = False)\n",
    "\n",
    "Map_Transaction_df.to_sql(name='map_transaction', con = phonepe_engine, if_exists = 'replace', index = False)\n",
    "\n",
    "Top_Transaction_df.to_sql(name='top_transaction', con = phonepe_engine, if_exists = 'replace', index = False)\n",
    "\n",
    "Insurance_Transaction_df.to_sql(name='insurance_transaction', con = phonepe_engine, if_exists = 'replace', index = False)\n",
    "\n",
    "Agg_User_df.to_sql(name='agg_user', con = phonepe_engine, if_exists = 'replace', index = False)\n",
    "\n",
    "Map_User_df.to_sql(name='map_user', con = phonepe_engine, if_exists = 'replace', index = False)\n"
   ]
  }
 ],
 "metadata": {
  "kernelspec": {
   "display_name": "Phonepe_venv (3.13.7)",
   "language": "python",
   "name": "python3"
  },
  "language_info": {
   "codemirror_mode": {
    "name": "ipython",
    "version": 3
   },
   "file_extension": ".py",
   "mimetype": "text/x-python",
   "name": "python",
   "nbconvert_exporter": "python",
   "pygments_lexer": "ipython3",
   "version": "3.13.7"
  }
 },
 "nbformat": 4,
 "nbformat_minor": 5
}
